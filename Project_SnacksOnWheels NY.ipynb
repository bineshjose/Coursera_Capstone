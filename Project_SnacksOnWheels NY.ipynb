{
 "cells": [
  {
   "cell_type": "markdown",
   "metadata": {
    "button": false,
    "new_sheet": false,
    "run_control": {
     "read_only": false
    }
   },
   "source": [
    "\n",
    "\n",
    "\n",
    "\n",
    "# Applied Data Science : Capstone Project - Snacks On Wheels\n",
    "\n",
    "\n",
    "\n"
   ]
  },
  {
   "cell_type": "markdown",
   "metadata": {},
   "source": [
    "### Description :\n",
    "    \n",
    "This project provide data analysis support for “Snacks on wheels” , a mobile snack shop, to decide the sales spot/location within the  neighborhood of city of Toronto based on following criteria.  \n",
    "\n",
    "  \n",
    "    a.Top 10 Most Trending Venue ( Expect restaurants )  \n",
    "    b.Nearest ( min distance)  from current sales spots  \n",
    "    c.Venue Rating  \n",
    "    d.Number of tips /  tips details  \n",
    "    e.Consulting/contacting user who gave most valuable tip ( if needed)  \n",
    "    f.Other popular spots near the venue  \n",
    "\n",
    "#####  Let us help them to find the best sales spot !!!\n"
   ]
  },
  {
   "cell_type": "markdown",
   "metadata": {},
   "source": [
    "#### Step  1:  Access & scrape the Wikipedia page , wrangle the data, clean it, and then read it into a pandas dataframe "
   ]
  },
  {
   "cell_type": "code",
   "execution_count": 10,
   "metadata": {},
   "outputs": [
    {
     "name": "stdout",
     "output_type": "stream",
     "text": [
      "Requirement already satisfied: wikipedia in c:\\programdata\\anaconda3\\lib\\site-packages (1.4.0)\n",
      "Requirement already satisfied: requests<3.0.0,>=2.0.0 in c:\\programdata\\anaconda3\\lib\\site-packages (from wikipedia) (2.18.4)\n",
      "Requirement already satisfied: beautifulsoup4 in c:\\programdata\\anaconda3\\lib\\site-packages (from wikipedia) (4.6.0)\n",
      "Requirement already satisfied: chardet<3.1.0,>=3.0.2 in c:\\programdata\\anaconda3\\lib\\site-packages (from requests<3.0.0,>=2.0.0->wikipedia) (3.0.4)\n",
      "Requirement already satisfied: idna<2.7,>=2.5 in c:\\programdata\\anaconda3\\lib\\site-packages (from requests<3.0.0,>=2.0.0->wikipedia) (2.6)\n",
      "Requirement already satisfied: urllib3<1.23,>=1.21.1 in c:\\programdata\\anaconda3\\lib\\site-packages (from requests<3.0.0,>=2.0.0->wikipedia) (1.22)\n",
      "Requirement already satisfied: certifi>=2017.4.17 in c:\\programdata\\anaconda3\\lib\\site-packages (from requests<3.0.0,>=2.0.0->wikipedia) (2018.4.16)\n"
     ]
    },
    {
     "name": "stderr",
     "output_type": "stream",
     "text": [
      "distributed 1.21.8 requires msgpack, which is not installed.\n",
      "You are using pip version 10.0.1, however version 18.0 is available.\n",
      "You should consider upgrading via the 'python -m pip install --upgrade pip' command.\n"
     ]
    }
   ],
   "source": [
    "#Install wikipedia\n",
    "!pip install wikipedia\n"
   ]
  },
  {
   "cell_type": "code",
   "execution_count": 11,
   "metadata": {},
   "outputs": [
    {
     "data": {
      "text/html": [
       "<div>\n",
       "<style scoped>\n",
       "    .dataframe tbody tr th:only-of-type {\n",
       "        vertical-align: middle;\n",
       "    }\n",
       "\n",
       "    .dataframe tbody tr th {\n",
       "        vertical-align: top;\n",
       "    }\n",
       "\n",
       "    .dataframe thead th {\n",
       "        text-align: right;\n",
       "    }\n",
       "</style>\n",
       "<table border=\"1\" class=\"dataframe\">\n",
       "  <thead>\n",
       "    <tr style=\"text-align: right;\">\n",
       "      <th></th>\n",
       "      <th>0</th>\n",
       "      <th>1</th>\n",
       "      <th>2</th>\n",
       "    </tr>\n",
       "  </thead>\n",
       "  <tbody>\n",
       "    <tr>\n",
       "      <th>0</th>\n",
       "      <td>Postcode</td>\n",
       "      <td>Borough</td>\n",
       "      <td>Neighbourhood</td>\n",
       "    </tr>\n",
       "    <tr>\n",
       "      <th>1</th>\n",
       "      <td>M1A</td>\n",
       "      <td>Not assigned</td>\n",
       "      <td>Not assigned</td>\n",
       "    </tr>\n",
       "    <tr>\n",
       "      <th>2</th>\n",
       "      <td>M2A</td>\n",
       "      <td>Not assigned</td>\n",
       "      <td>Not assigned</td>\n",
       "    </tr>\n",
       "    <tr>\n",
       "      <th>3</th>\n",
       "      <td>M3A</td>\n",
       "      <td>North York</td>\n",
       "      <td>Parkwoods</td>\n",
       "    </tr>\n",
       "    <tr>\n",
       "      <th>4</th>\n",
       "      <td>M4A</td>\n",
       "      <td>North York</td>\n",
       "      <td>Victoria Village</td>\n",
       "    </tr>\n",
       "  </tbody>\n",
       "</table>\n",
       "</div>"
      ],
      "text/plain": [
       "          0             1                 2\n",
       "0  Postcode       Borough     Neighbourhood\n",
       "1       M1A  Not assigned      Not assigned\n",
       "2       M2A  Not assigned      Not assigned\n",
       "3       M3A    North York         Parkwoods\n",
       "4       M4A    North York  Victoria Village"
      ]
     },
     "execution_count": 11,
     "metadata": {},
     "output_type": "execute_result"
    }
   ],
   "source": [
    "import pandas as pd\n",
    "import wikipedia as wp\n",
    " \n",
    "#Get the html source\n",
    "html = wp.page(\"List of postal codes of Canada: M\").html().encode(\"UTF-8\")\n",
    "df = pd.read_html(html)[0]\n",
    "df.head()"
   ]
  },
  {
   "cell_type": "markdown",
   "metadata": {},
   "source": [
    "Added Column header ,  Removed data with borough =  \"Not assigned \"."
   ]
  },
  {
   "cell_type": "code",
   "execution_count": 12,
   "metadata": {},
   "outputs": [
    {
     "data": {
      "text/html": [
       "<div>\n",
       "<style scoped>\n",
       "    .dataframe tbody tr th:only-of-type {\n",
       "        vertical-align: middle;\n",
       "    }\n",
       "\n",
       "    .dataframe tbody tr th {\n",
       "        vertical-align: top;\n",
       "    }\n",
       "\n",
       "    .dataframe thead th {\n",
       "        text-align: right;\n",
       "    }\n",
       "</style>\n",
       "<table border=\"1\" class=\"dataframe\">\n",
       "  <thead>\n",
       "    <tr style=\"text-align: right;\">\n",
       "      <th></th>\n",
       "      <th>Postcode</th>\n",
       "      <th>Borough</th>\n",
       "      <th>Neighbourhood</th>\n",
       "    </tr>\n",
       "  </thead>\n",
       "  <tbody>\n",
       "    <tr>\n",
       "      <th>3</th>\n",
       "      <td>M3A</td>\n",
       "      <td>North York</td>\n",
       "      <td>Parkwoods</td>\n",
       "    </tr>\n",
       "    <tr>\n",
       "      <th>4</th>\n",
       "      <td>M4A</td>\n",
       "      <td>North York</td>\n",
       "      <td>Victoria Village</td>\n",
       "    </tr>\n",
       "    <tr>\n",
       "      <th>5</th>\n",
       "      <td>M5A</td>\n",
       "      <td>Downtown Toronto</td>\n",
       "      <td>Harbourfront</td>\n",
       "    </tr>\n",
       "    <tr>\n",
       "      <th>6</th>\n",
       "      <td>M5A</td>\n",
       "      <td>Downtown Toronto</td>\n",
       "      <td>Regent Park</td>\n",
       "    </tr>\n",
       "    <tr>\n",
       "      <th>7</th>\n",
       "      <td>M6A</td>\n",
       "      <td>North York</td>\n",
       "      <td>Lawrence Heights</td>\n",
       "    </tr>\n",
       "  </tbody>\n",
       "</table>\n",
       "</div>"
      ],
      "text/plain": [
       "0 Postcode           Borough     Neighbourhood\n",
       "3      M3A        North York         Parkwoods\n",
       "4      M4A        North York  Victoria Village\n",
       "5      M5A  Downtown Toronto      Harbourfront\n",
       "6      M5A  Downtown Toronto       Regent Park\n",
       "7      M6A        North York  Lawrence Heights"
      ]
     },
     "execution_count": 12,
     "metadata": {},
     "output_type": "execute_result"
    }
   ],
   "source": [
    "df.columns = df.iloc[0]\n",
    "df = df[1:]\n",
    "df=df[df.Borough != 'Not assigned']\n",
    "df.head()"
   ]
  },
  {
   "cell_type": "markdown",
   "metadata": {},
   "source": [
    "If a cell has a borough but a Not assigned neighborhood, then the neighborhood will be the same as the borough."
   ]
  },
  {
   "cell_type": "code",
   "execution_count": 13,
   "metadata": {},
   "outputs": [],
   "source": [
    "df['Neighbourhood'][df.Neighbourhood == 'Not assigned'] = df['Borough']"
   ]
  },
  {
   "cell_type": "markdown",
   "metadata": {},
   "source": [
    "If more than one neighborhood  exist in one postal code area , combine them with  comma separated"
   ]
  },
  {
   "cell_type": "code",
   "execution_count": 14,
   "metadata": {
    "scrolled": true
   },
   "outputs": [
    {
     "data": {
      "text/html": [
       "<div>\n",
       "<style scoped>\n",
       "    .dataframe tbody tr th:only-of-type {\n",
       "        vertical-align: middle;\n",
       "    }\n",
       "\n",
       "    .dataframe tbody tr th {\n",
       "        vertical-align: top;\n",
       "    }\n",
       "\n",
       "    .dataframe thead th {\n",
       "        text-align: right;\n",
       "    }\n",
       "</style>\n",
       "<table border=\"1\" class=\"dataframe\">\n",
       "  <thead>\n",
       "    <tr style=\"text-align: right;\">\n",
       "      <th></th>\n",
       "      <th>PostalCode</th>\n",
       "      <th>Borough</th>\n",
       "      <th>Neighbourhood</th>\n",
       "    </tr>\n",
       "  </thead>\n",
       "  <tbody>\n",
       "    <tr>\n",
       "      <th>0</th>\n",
       "      <td>M1B</td>\n",
       "      <td>Scarborough</td>\n",
       "      <td>Rouge, Malvern</td>\n",
       "    </tr>\n",
       "    <tr>\n",
       "      <th>1</th>\n",
       "      <td>M1C</td>\n",
       "      <td>Scarborough</td>\n",
       "      <td>Highland Creek, Rouge Hill, Port Union</td>\n",
       "    </tr>\n",
       "    <tr>\n",
       "      <th>2</th>\n",
       "      <td>M1E</td>\n",
       "      <td>Scarborough</td>\n",
       "      <td>Guildwood, Morningside, West Hill</td>\n",
       "    </tr>\n",
       "    <tr>\n",
       "      <th>3</th>\n",
       "      <td>M1G</td>\n",
       "      <td>Scarborough</td>\n",
       "      <td>Woburn</td>\n",
       "    </tr>\n",
       "    <tr>\n",
       "      <th>4</th>\n",
       "      <td>M1H</td>\n",
       "      <td>Scarborough</td>\n",
       "      <td>Cedarbrae</td>\n",
       "    </tr>\n",
       "  </tbody>\n",
       "</table>\n",
       "</div>"
      ],
      "text/plain": [
       "  PostalCode      Borough                           Neighbourhood\n",
       "0        M1B  Scarborough                          Rouge, Malvern\n",
       "1        M1C  Scarborough  Highland Creek, Rouge Hill, Port Union\n",
       "2        M1E  Scarborough       Guildwood, Morningside, West Hill\n",
       "3        M1G  Scarborough                                  Woburn\n",
       "4        M1H  Scarborough                               Cedarbrae"
      ]
     },
     "execution_count": 14,
     "metadata": {},
     "output_type": "execute_result"
    }
   ],
   "source": [
    "df1 = df.groupby([('Postcode') , ('Borough')])['Neighbourhood'].apply(lambda x: ', '.join(x.astype(str))).reset_index()\n",
    "# Rename Column name Postcode to PostalCode for Consistency\n",
    "df1.rename(columns={'Postcode':'PostalCode'}, inplace=True)\n",
    "df1.head()"
   ]
  },
  {
   "cell_type": "markdown",
   "metadata": {},
   "source": [
    "#### Step  2:   Access Geospatial Data for latitude and longitude information"
   ]
  },
  {
   "cell_type": "code",
   "execution_count": 15,
   "metadata": {},
   "outputs": [
    {
     "data": {
      "text/html": [
       "<div>\n",
       "<style scoped>\n",
       "    .dataframe tbody tr th:only-of-type {\n",
       "        vertical-align: middle;\n",
       "    }\n",
       "\n",
       "    .dataframe tbody tr th {\n",
       "        vertical-align: top;\n",
       "    }\n",
       "\n",
       "    .dataframe thead th {\n",
       "        text-align: right;\n",
       "    }\n",
       "</style>\n",
       "<table border=\"1\" class=\"dataframe\">\n",
       "  <thead>\n",
       "    <tr style=\"text-align: right;\">\n",
       "      <th></th>\n",
       "      <th>PostalCode</th>\n",
       "      <th>Latitude</th>\n",
       "      <th>Longitude</th>\n",
       "    </tr>\n",
       "  </thead>\n",
       "  <tbody>\n",
       "    <tr>\n",
       "      <th>0</th>\n",
       "      <td>M1B</td>\n",
       "      <td>43.806686</td>\n",
       "      <td>-79.194353</td>\n",
       "    </tr>\n",
       "    <tr>\n",
       "      <th>1</th>\n",
       "      <td>M1C</td>\n",
       "      <td>43.784535</td>\n",
       "      <td>-79.160497</td>\n",
       "    </tr>\n",
       "    <tr>\n",
       "      <th>2</th>\n",
       "      <td>M1E</td>\n",
       "      <td>43.763573</td>\n",
       "      <td>-79.188711</td>\n",
       "    </tr>\n",
       "    <tr>\n",
       "      <th>3</th>\n",
       "      <td>M1G</td>\n",
       "      <td>43.770992</td>\n",
       "      <td>-79.216917</td>\n",
       "    </tr>\n",
       "    <tr>\n",
       "      <th>4</th>\n",
       "      <td>M1H</td>\n",
       "      <td>43.773136</td>\n",
       "      <td>-79.239476</td>\n",
       "    </tr>\n",
       "  </tbody>\n",
       "</table>\n",
       "</div>"
      ],
      "text/plain": [
       "  PostalCode   Latitude  Longitude\n",
       "0        M1B  43.806686 -79.194353\n",
       "1        M1C  43.784535 -79.160497\n",
       "2        M1E  43.763573 -79.188711\n",
       "3        M1G  43.770992 -79.216917\n",
       "4        M1H  43.773136 -79.239476"
      ]
     },
     "execution_count": 15,
     "metadata": {},
     "output_type": "execute_result"
    }
   ],
   "source": [
    "df_geo = pd.read_csv('https://cocl.us/Geospatial_data')\n",
    "df_geo.rename(columns={'Postal Code':'PostalCode'}, inplace=True)\n",
    "df_geo.head()"
   ]
  },
  {
   "cell_type": "markdown",
   "metadata": {},
   "source": [
    "Appending Geospatial Data with dataframe based on postal code  ( .....df1.postalcode=df_geo.postalcode )"
   ]
  },
  {
   "cell_type": "code",
   "execution_count": 16,
   "metadata": {},
   "outputs": [
    {
     "data": {
      "text/html": [
       "<div>\n",
       "<style scoped>\n",
       "    .dataframe tbody tr th:only-of-type {\n",
       "        vertical-align: middle;\n",
       "    }\n",
       "\n",
       "    .dataframe tbody tr th {\n",
       "        vertical-align: top;\n",
       "    }\n",
       "\n",
       "    .dataframe thead th {\n",
       "        text-align: right;\n",
       "    }\n",
       "</style>\n",
       "<table border=\"1\" class=\"dataframe\">\n",
       "  <thead>\n",
       "    <tr style=\"text-align: right;\">\n",
       "      <th></th>\n",
       "      <th>PostalCode</th>\n",
       "      <th>Borough</th>\n",
       "      <th>Neighbourhood</th>\n",
       "      <th>Latitude</th>\n",
       "      <th>Longitude</th>\n",
       "    </tr>\n",
       "  </thead>\n",
       "  <tbody>\n",
       "    <tr>\n",
       "      <th>0</th>\n",
       "      <td>M1B</td>\n",
       "      <td>Scarborough</td>\n",
       "      <td>Rouge, Malvern</td>\n",
       "      <td>43.806686</td>\n",
       "      <td>-79.194353</td>\n",
       "    </tr>\n",
       "    <tr>\n",
       "      <th>1</th>\n",
       "      <td>M1C</td>\n",
       "      <td>Scarborough</td>\n",
       "      <td>Highland Creek, Rouge Hill, Port Union</td>\n",
       "      <td>43.784535</td>\n",
       "      <td>-79.160497</td>\n",
       "    </tr>\n",
       "    <tr>\n",
       "      <th>2</th>\n",
       "      <td>M1E</td>\n",
       "      <td>Scarborough</td>\n",
       "      <td>Guildwood, Morningside, West Hill</td>\n",
       "      <td>43.763573</td>\n",
       "      <td>-79.188711</td>\n",
       "    </tr>\n",
       "    <tr>\n",
       "      <th>3</th>\n",
       "      <td>M1G</td>\n",
       "      <td>Scarborough</td>\n",
       "      <td>Woburn</td>\n",
       "      <td>43.770992</td>\n",
       "      <td>-79.216917</td>\n",
       "    </tr>\n",
       "    <tr>\n",
       "      <th>4</th>\n",
       "      <td>M1H</td>\n",
       "      <td>Scarborough</td>\n",
       "      <td>Cedarbrae</td>\n",
       "      <td>43.773136</td>\n",
       "      <td>-79.239476</td>\n",
       "    </tr>\n",
       "  </tbody>\n",
       "</table>\n",
       "</div>"
      ],
      "text/plain": [
       "  PostalCode      Borough                           Neighbourhood   Latitude  \\\n",
       "0        M1B  Scarborough                          Rouge, Malvern  43.806686   \n",
       "1        M1C  Scarborough  Highland Creek, Rouge Hill, Port Union  43.784535   \n",
       "2        M1E  Scarborough       Guildwood, Morningside, West Hill  43.763573   \n",
       "3        M1G  Scarborough                                  Woburn  43.770992   \n",
       "4        M1H  Scarborough                               Cedarbrae  43.773136   \n",
       "\n",
       "   Longitude  \n",
       "0 -79.194353  \n",
       "1 -79.160497  \n",
       "2 -79.188711  \n",
       "3 -79.216917  \n",
       "4 -79.239476  "
      ]
     },
     "execution_count": 16,
     "metadata": {},
     "output_type": "execute_result"
    }
   ],
   "source": [
    "neighborhoods= (pd.merge(df1, df_geo, on='PostalCode'))\n",
    "neighborhoods.head()\n"
   ]
  },
  {
   "cell_type": "markdown",
   "metadata": {},
   "source": [
    "Import libraries for processing Json ,foursquare, matplot and folium"
   ]
  },
  {
   "cell_type": "code",
   "execution_count": 17,
   "metadata": {},
   "outputs": [
    {
     "name": "stdout",
     "output_type": "stream",
     "text": [
      "Solving environment: ...working... done\n",
      "\n",
      "# All requested packages already installed.\n",
      "\n"
     ]
    },
    {
     "name": "stderr",
     "output_type": "stream",
     "text": [
      "\n",
      "\n",
      "==> WARNING: A newer version of conda exists. <==\n",
      "  current version: 4.5.1\n",
      "  latest version: 4.5.11\n",
      "\n",
      "Please update conda by running\n",
      "\n",
      "    $ conda update -n base conda\n",
      "\n",
      "\n"
     ]
    },
    {
     "name": "stdout",
     "output_type": "stream",
     "text": [
      "Solving environment: ...working... done\n",
      "\n",
      "# All requested packages already installed.\n",
      "\n"
     ]
    },
    {
     "name": "stderr",
     "output_type": "stream",
     "text": [
      "\n",
      "\n",
      "==> WARNING: A newer version of conda exists. <==\n",
      "  current version: 4.5.1\n",
      "  latest version: 4.5.11\n",
      "\n",
      "Please update conda by running\n",
      "\n",
      "    $ conda update -n base conda\n",
      "\n",
      "\n"
     ]
    },
    {
     "name": "stdout",
     "output_type": "stream",
     "text": [
      "Solving environment: ...working... done\n",
      "\n",
      "# All requested packages already installed.\n",
      "\n",
      "Libraries imported.\n"
     ]
    },
    {
     "name": "stderr",
     "output_type": "stream",
     "text": [
      "\n",
      "\n",
      "==> WARNING: A newer version of conda exists. <==\n",
      "  current version: 4.5.1\n",
      "  latest version: 4.5.11\n",
      "\n",
      "Please update conda by running\n",
      "\n",
      "    $ conda update -n base conda\n",
      "\n",
      "\n"
     ]
    }
   ],
   "source": [
    "import numpy as np # library to handle data in a vectorized manner\n",
    "\n",
    "pd.set_option('display.max_columns', None)\n",
    "pd.set_option('display.max_rows', None)\n",
    "\n",
    "import json # library to handle JSON files\n",
    "\n",
    "!conda install -c conda-forge geopy --yes \n",
    "from geopy.geocoders import Nominatim # convert an address into latitude and longitude values\n",
    "\n",
    "import requests # library to handle requests\n",
    "from pandas.io.json import json_normalize # tranform JSON file into a pandas dataframe\n",
    "\n",
    "# Matplotlib and associated plotting modules\n",
    "import matplotlib.cm as cm\n",
    "import matplotlib.colors as colors\n",
    "\n",
    "# import k-means from clustering stage\n",
    "from sklearn.cluster import KMeans\n",
    "\n",
    "!conda install -c conda-forge folium=0.5.0 --yes \n",
    "import folium # map rendering library\n",
    "\n",
    "!conda install -c conda-forge geopy --yes \n",
    "from geopy.geocoders import Nominatim # module to convert an address into latitude and longitude values\n",
    "import requests # library to handle requests\n",
    "\n",
    "import random # library for random number generation\n",
    "\n",
    "# libraries for displaying images\n",
    "from IPython.display import Image \n",
    "from IPython.core.display import HTML \n",
    "    \n",
    "\n",
    "print('Libraries imported.')"
   ]
  },
  {
   "cell_type": "markdown",
   "metadata": {},
   "source": [
    "Find the geograpical coordinate of Toronto"
   ]
  },
  {
   "cell_type": "code",
   "execution_count": 18,
   "metadata": {},
   "outputs": [
    {
     "name": "stderr",
     "output_type": "stream",
     "text": [
      "C:\\ProgramData\\Anaconda3\\lib\\site-packages\\geopy\\geocoders\\osm.py:143: UserWarning: Using Nominatim with the default \"geopy/1.17.0\" `user_agent` is strongly discouraged, as it violates Nominatim's ToS https://operations.osmfoundation.org/policies/nominatim/ and may possibly cause 403 and 429 HTTP errors. Please specify a custom `user_agent` with `Nominatim(user_agent=\"my-application\")` or by overriding the default `user_agent`: `geopy.geocoders.options.default_user_agent = \"my-application\"`. In geopy 2.0 this will become an exception.\n",
      "  UserWarning\n"
     ]
    },
    {
     "name": "stdout",
     "output_type": "stream",
     "text": [
      "The geograpical coordinate of Toronto are 43.653963, -79.387207.\n"
     ]
    }
   ],
   "source": [
    "address = 'Toronto'\n",
    "\n",
    "geolocator = Nominatim()\n",
    "location = geolocator.geocode(address)\n",
    "latitude = location.latitude\n",
    "longitude = location.longitude\n",
    "print('The geograpical coordinate of Toronto are {}, {}.'.format(latitude, longitude))"
   ]
  },
  {
   "cell_type": "markdown",
   "metadata": {},
   "source": [
    "Draw a map of Toronto using latitude and longitude values"
   ]
  },
  {
   "cell_type": "code",
   "execution_count": 19,
   "metadata": {
    "scrolled": true
   },
   "outputs": [
    {
     "data": {
      "text/html": [
       "<div style=\"width:100%;\"><div style=\"position:relative;width:100%;height:0;padding-bottom:60%;\"><iframe src=\"data:text/html;charset=utf-8;base64,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\" style=\"position:absolute;width:100%;height:100%;left:0;top:0;border:none !important;\" allowfullscreen webkitallowfullscreen mozallowfullscreen></iframe></div></div>"
      ],
      "text/plain": [
       "<folium.folium.Map at 0xb2dae30>"
      ]
     },
     "execution_count": 19,
     "metadata": {},
     "output_type": "execute_result"
    }
   ],
   "source": [
    "\n",
    "map_Toronto = folium.Map(location=[latitude, longitude], zoom_start=10)\n",
    "\n",
    "# add markers to map\n",
    "for lat, lng, borough, neighborhood in zip(neighborhoods['Latitude'], neighborhoods['Longitude'], neighborhoods['Borough'], neighborhoods['Neighbourhood']):\n",
    "    label = '{}, {}'.format(neighborhood, borough)\n",
    "    label = folium.Popup(label, parse_html=True)\n",
    "    folium.CircleMarker(\n",
    "        [lat, lng],\n",
    "        radius=5,\n",
    "        popup=label,\n",
    "        color='blue',\n",
    "        fill=True,\n",
    "        fill_color='#3186cc',\n",
    "        fill_opacity=0.7,\n",
    "        parse_html=False).add_to(map_Toronto)  \n",
    "    \n",
    "map_Toronto"
   ]
  },
  {
   "cell_type": "markdown",
   "metadata": {},
   "source": [
    "####  Step 4 : Limit the scope of this project to Borough contain \"Toronto\"."
   ]
  },
  {
   "cell_type": "code",
   "execution_count": 20,
   "metadata": {},
   "outputs": [
    {
     "data": {
      "text/html": [
       "<div>\n",
       "<style scoped>\n",
       "    .dataframe tbody tr th:only-of-type {\n",
       "        vertical-align: middle;\n",
       "    }\n",
       "\n",
       "    .dataframe tbody tr th {\n",
       "        vertical-align: top;\n",
       "    }\n",
       "\n",
       "    .dataframe thead th {\n",
       "        text-align: right;\n",
       "    }\n",
       "</style>\n",
       "<table border=\"1\" class=\"dataframe\">\n",
       "  <thead>\n",
       "    <tr style=\"text-align: right;\">\n",
       "      <th></th>\n",
       "      <th>PostalCode</th>\n",
       "      <th>Borough</th>\n",
       "      <th>Neighbourhood</th>\n",
       "      <th>Latitude</th>\n",
       "      <th>Longitude</th>\n",
       "    </tr>\n",
       "  </thead>\n",
       "  <tbody>\n",
       "    <tr>\n",
       "      <th>0</th>\n",
       "      <td>M4E</td>\n",
       "      <td>East Toronto</td>\n",
       "      <td>The Beaches</td>\n",
       "      <td>43.676357</td>\n",
       "      <td>-79.293031</td>\n",
       "    </tr>\n",
       "    <tr>\n",
       "      <th>1</th>\n",
       "      <td>M4K</td>\n",
       "      <td>East Toronto</td>\n",
       "      <td>The Danforth West, Riverdale</td>\n",
       "      <td>43.679557</td>\n",
       "      <td>-79.352188</td>\n",
       "    </tr>\n",
       "    <tr>\n",
       "      <th>2</th>\n",
       "      <td>M4L</td>\n",
       "      <td>East Toronto</td>\n",
       "      <td>The Beaches West, India Bazaar</td>\n",
       "      <td>43.668999</td>\n",
       "      <td>-79.315572</td>\n",
       "    </tr>\n",
       "    <tr>\n",
       "      <th>3</th>\n",
       "      <td>M4M</td>\n",
       "      <td>East Toronto</td>\n",
       "      <td>Studio District</td>\n",
       "      <td>43.659526</td>\n",
       "      <td>-79.340923</td>\n",
       "    </tr>\n",
       "    <tr>\n",
       "      <th>4</th>\n",
       "      <td>M4N</td>\n",
       "      <td>Central Toronto</td>\n",
       "      <td>Lawrence Park</td>\n",
       "      <td>43.728020</td>\n",
       "      <td>-79.388790</td>\n",
       "    </tr>\n",
       "  </tbody>\n",
       "</table>\n",
       "</div>"
      ],
      "text/plain": [
       "  PostalCode          Borough                   Neighbourhood   Latitude  \\\n",
       "0        M4E     East Toronto                     The Beaches  43.676357   \n",
       "1        M4K     East Toronto    The Danforth West, Riverdale  43.679557   \n",
       "2        M4L     East Toronto  The Beaches West, India Bazaar  43.668999   \n",
       "3        M4M     East Toronto                 Studio District  43.659526   \n",
       "4        M4N  Central Toronto                   Lawrence Park  43.728020   \n",
       "\n",
       "   Longitude  \n",
       "0 -79.293031  \n",
       "1 -79.352188  \n",
       "2 -79.315572  \n",
       "3 -79.340923  \n",
       "4 -79.388790  "
      ]
     },
     "execution_count": 20,
     "metadata": {},
     "output_type": "execute_result"
    }
   ],
   "source": [
    "Toronto_data = neighborhoods[neighborhoods['Borough'].str.contains(\"Toronto\")].reset_index(drop=True)\n",
    "Toronto_data.head()\n"
   ]
  },
  {
   "cell_type": "code",
   "execution_count": 21,
   "metadata": {},
   "outputs": [
    {
     "data": {
      "text/plain": [
       "(38, 5)"
      ]
     },
     "execution_count": 21,
     "metadata": {},
     "output_type": "execute_result"
    }
   ],
   "source": [
    "Toronto_data.shape"
   ]
  },
  {
   "cell_type": "markdown",
   "metadata": {},
   "source": [
    "####  Step 5 : Random selection of current location for test."
   ]
  },
  {
   "cell_type": "code",
   "execution_count": 33,
   "metadata": {},
   "outputs": [
    {
     "name": "stdout",
     "output_type": "stream",
     "text": [
      "43.7280205 -79.3887901\n",
      "Central Toronto\n"
     ]
    }
   ],
   "source": [
    "cur_loc=Toronto_data ['PostalCode'].sample()\n",
    "latitude=Toronto_data['Latitude'].loc[Toronto_data['PostalCode'].isin(cur_loc)] .values[0]\n",
    "longitude=Toronto_data['Longitude'].loc[Toronto_data['PostalCode'].isin(cur_loc)].values[0]\n",
    "cur_Borough=Toronto_data['Borough'].loc[Toronto_data['PostalCode'].isin(cur_loc)].values[0]\n",
    "print(latitude, longitude)\n",
    "print (cur_Borough)\n",
    "\n",
    "#latitude=43.653963\n",
    "#longitude=-79.387207\n",
    "\n",
    "latitude=40.7149555\n",
    "longitude=-74.0153365\n",
    "\n"
   ]
  },
  {
   "cell_type": "markdown",
   "metadata": {},
   "source": [
    "####  Step 6: Defining Foursqure credentials "
   ]
  },
  {
   "cell_type": "code",
   "execution_count": 34,
   "metadata": {},
   "outputs": [
    {
     "name": "stdout",
     "output_type": "stream",
     "text": [
      "Your credentails:\n",
      "CLIENT_ID: YM4DEIRN1QRSQKLOKOMVW5LOFGR32DJPPSP2ASJOSPG5ISV5\n",
      "CLIENT_SECRET:XWG2KZR0RV0PNUSC3JUWLQA3RFWPJBLRGTKC2V1BHNKDYSYD\n"
     ]
    }
   ],
   "source": [
    "CLIENT_ID = 'YM4DEIRN1QRSQKLOKOMVW5LOFGR32DJPPSP2ASJOSPG5ISV5' # your Foursquare ID\n",
    "CLIENT_SECRET = 'XWG2KZR0RV0PNUSC3JUWLQA3RFWPJBLRGTKC2V1BHNKDYSYD' # your Foursquare Secret\n",
    "VERSION = '20180605' # Foursquare API version\n",
    "\n",
    "print('Your credentails:')\n",
    "print('CLIENT_ID: ' + CLIENT_ID)\n",
    "print('CLIENT_SECRET:' + CLIENT_SECRET)"
   ]
  },
  {
   "cell_type": "markdown",
   "metadata": {},
   "source": [
    "#### Step 7: Accessing  Foursqure API for Explore Trending Venues"
   ]
  },
  {
   "cell_type": "code",
   "execution_count": 35,
   "metadata": {},
   "outputs": [],
   "source": [
    "# Seraching within the radius of 2000 meters\n",
    "radius = 2000\n",
    "# limit the number of records to 50\n",
    "LIMIT=100"
   ]
  },
  {
   "cell_type": "markdown",
   "metadata": {},
   "source": [
    "#### Step 8: Sending request for trending location details & format result"
   ]
  },
  {
   "cell_type": "code",
   "execution_count": 36,
   "metadata": {},
   "outputs": [
    {
     "data": {
      "text/plain": [
       "'https://api.foursquare.com/v2/venues/trending?client_id=YM4DEIRN1QRSQKLOKOMVW5LOFGR32DJPPSP2ASJOSPG5ISV5&client_secret=XWG2KZR0RV0PNUSC3JUWLQA3RFWPJBLRGTKC2V1BHNKDYSYD&ll=40.7149555,-74.0153365&v=20180605&radius=2000&limit=100'"
      ]
     },
     "execution_count": 36,
     "metadata": {},
     "output_type": "execute_result"
    }
   ],
   "source": [
    "url = 'https://api.foursquare.com/v2/venues/trending?client_id={}&client_secret={}&ll={},{}&v={}&radius={}&limit={}'.format(CLIENT_ID, CLIENT_SECRET, latitude, longitude, VERSION,  radius, LIMIT)\n",
    "url"
   ]
  },
  {
   "cell_type": "code",
   "execution_count": 37,
   "metadata": {},
   "outputs": [
    {
     "data": {
      "text/html": [
       "<div>\n",
       "<style scoped>\n",
       "    .dataframe tbody tr th:only-of-type {\n",
       "        vertical-align: middle;\n",
       "    }\n",
       "\n",
       "    .dataframe tbody tr th {\n",
       "        vertical-align: top;\n",
       "    }\n",
       "\n",
       "    .dataframe thead th {\n",
       "        text-align: right;\n",
       "    }\n",
       "</style>\n",
       "<table border=\"1\" class=\"dataframe\">\n",
       "  <thead>\n",
       "    <tr style=\"text-align: right;\">\n",
       "      <th></th>\n",
       "      <th>categories</th>\n",
       "      <th>id</th>\n",
       "      <th>location.address</th>\n",
       "      <th>location.cc</th>\n",
       "      <th>location.city</th>\n",
       "      <th>location.country</th>\n",
       "      <th>location.crossStreet</th>\n",
       "      <th>location.distance</th>\n",
       "      <th>location.formattedAddress</th>\n",
       "      <th>location.labeledLatLngs</th>\n",
       "      <th>location.lat</th>\n",
       "      <th>location.lng</th>\n",
       "      <th>location.postalCode</th>\n",
       "      <th>location.state</th>\n",
       "      <th>name</th>\n",
       "    </tr>\n",
       "  </thead>\n",
       "  <tbody>\n",
       "    <tr>\n",
       "      <th>0</th>\n",
       "      <td>[{'id': '4bf58dd8d48988d1c9941735', 'name': 'I...</td>\n",
       "      <td>590a00e74febd55af43a8267</td>\n",
       "      <td>159 Mott St</td>\n",
       "      <td>US</td>\n",
       "      <td>New York</td>\n",
       "      <td>United States</td>\n",
       "      <td>Grand Street and Broom Street</td>\n",
       "      <td>1684</td>\n",
       "      <td>[159 Mott St (Grand Street and Broom Street), ...</td>\n",
       "      <td>[{'label': 'display', 'lat': 40.71950256062705...</td>\n",
       "      <td>40.719503</td>\n",
       "      <td>-73.996297</td>\n",
       "      <td>10013</td>\n",
       "      <td>NY</td>\n",
       "      <td>Milk &amp; Cream Cereal Bar</td>\n",
       "    </tr>\n",
       "  </tbody>\n",
       "</table>\n",
       "</div>"
      ],
      "text/plain": [
       "                                          categories  \\\n",
       "0  [{'id': '4bf58dd8d48988d1c9941735', 'name': 'I...   \n",
       "\n",
       "                         id location.address location.cc location.city  \\\n",
       "0  590a00e74febd55af43a8267      159 Mott St          US      New York   \n",
       "\n",
       "  location.country           location.crossStreet  location.distance  \\\n",
       "0    United States  Grand Street and Broom Street               1684   \n",
       "\n",
       "                           location.formattedAddress  \\\n",
       "0  [159 Mott St (Grand Street and Broom Street), ...   \n",
       "\n",
       "                             location.labeledLatLngs  location.lat  \\\n",
       "0  [{'label': 'display', 'lat': 40.71950256062705...     40.719503   \n",
       "\n",
       "   location.lng location.postalCode location.state                     name  \n",
       "0    -73.996297               10013             NY  Milk & Cream Cereal Bar  "
      ]
     },
     "execution_count": 37,
     "metadata": {},
     "output_type": "execute_result"
    }
   ],
   "source": [
    "results = requests.get(url).json()\n",
    "results\n",
    "x=len(results['response']['venues'])\n",
    "x\n",
    "if len(results['response']['venues']) == 0:\n",
    "    dataframe= 'No trending venues are available at the moment!'\n",
    "  \n",
    "else:\n",
    "     # assign relevant part of JSON to venues\n",
    "        venues = results['response']['venues']\n",
    "\n",
    "        # tranform venues into a dataframe\n",
    "        dataframe = json_normalize(venues)\n",
    "        dataframe.head()\n",
    "\n",
    "dataframe "
   ]
  },
  {
   "cell_type": "code",
   "execution_count": 32,
   "metadata": {},
   "outputs": [
    {
     "data": {
      "text/plain": [
       "'No trending venues are available at the moment!'"
      ]
     },
     "execution_count": 32,
     "metadata": {},
     "output_type": "execute_result"
    }
   ],
   "source": [
    "if len(results['response']['venues']) == 0:\n",
    "    dataframe_filtered= 'No trending venues are available at the moment!'\n",
    "else:\n",
    "    # keep only columns that include venue name, and anything that is associated with location\n",
    "    filtered_columns = ['name', 'categories'] + [col for col in dataframe.columns if col.startswith('location.')] + ['id']\n",
    "    dataframe_filtered = dataframe.loc[:, filtered_columns]\n",
    "    \n",
    "    # function that extracts the category of the venue\n",
    "    def get_category_type(row):\n",
    "        try:\n",
    "            categories_list = row['categories']\n",
    "        except:\n",
    "            categories_list = row['venue.categories']\n",
    "            \n",
    "        if len(categories_list) == 0:\n",
    "            return None\n",
    "        else:\n",
    "            return categories_list[0]['name']\n",
    "    \n",
    "    # filter the category for each row\n",
    "    dataframe_filtered['categories'] = dataframe_filtered.apply(get_category_type, axis=1)\n",
    "\n",
    "    # clean column names by keeping only last term\n",
    "    dataframe_filtered.columns = [column.split('.')[-1] for column in dataframe_filtered.columns]\n",
    "\n",
    "dataframe_filtered"
   ]
  },
  {
   "cell_type": "markdown",
   "metadata": {},
   "source": [
    "#### Step 8 : Remove the data if  Category of Trending location contain \"Restaurant\""
   ]
  },
  {
   "cell_type": "code",
   "execution_count": 371,
   "metadata": {},
   "outputs": [
    {
     "data": {
      "text/html": [
       "<div>\n",
       "<style scoped>\n",
       "    .dataframe tbody tr th:only-of-type {\n",
       "        vertical-align: middle;\n",
       "    }\n",
       "\n",
       "    .dataframe tbody tr th {\n",
       "        vertical-align: top;\n",
       "    }\n",
       "\n",
       "    .dataframe thead th {\n",
       "        text-align: right;\n",
       "    }\n",
       "</style>\n",
       "<table border=\"1\" class=\"dataframe\">\n",
       "  <thead>\n",
       "    <tr style=\"text-align: right;\">\n",
       "      <th></th>\n",
       "      <th>name</th>\n",
       "      <th>categories</th>\n",
       "      <th>address</th>\n",
       "      <th>cc</th>\n",
       "      <th>city</th>\n",
       "      <th>country</th>\n",
       "      <th>crossStreet</th>\n",
       "      <th>distance</th>\n",
       "      <th>formattedAddress</th>\n",
       "      <th>labeledLatLngs</th>\n",
       "      <th>lat</th>\n",
       "      <th>lng</th>\n",
       "      <th>neighborhood</th>\n",
       "      <th>postalCode</th>\n",
       "      <th>state</th>\n",
       "      <th>id</th>\n",
       "    </tr>\n",
       "  </thead>\n",
       "  <tbody>\n",
       "    <tr>\n",
       "      <th>0</th>\n",
       "      <td>Dante</td>\n",
       "      <td>Italian Restaurant</td>\n",
       "      <td>79-81 Macdougal St</td>\n",
       "      <td>US</td>\n",
       "      <td>New York</td>\n",
       "      <td>United States</td>\n",
       "      <td>btw Bleecker and W. Houston</td>\n",
       "      <td>1931</td>\n",
       "      <td>[79-81 Macdougal St (btw Bleecker and W. Houston), New York, NY 10012, United States]</td>\n",
       "      <td>[{'label': 'display', 'lat': 40.728847021360245, 'lng': -74.00162166908986}]</td>\n",
       "      <td>40.728847</td>\n",
       "      <td>-74.001622</td>\n",
       "      <td>NaN</td>\n",
       "      <td>10012</td>\n",
       "      <td>NY</td>\n",
       "      <td>556f4ef2498ee60139b28c72</td>\n",
       "    </tr>\n",
       "    <tr>\n",
       "      <th>1</th>\n",
       "      <td>Amazon 4-star</td>\n",
       "      <td>Miscellaneous Shop</td>\n",
       "      <td>72 Spring St</td>\n",
       "      <td>US</td>\n",
       "      <td>New York</td>\n",
       "      <td>United States</td>\n",
       "      <td>NaN</td>\n",
       "      <td>1694</td>\n",
       "      <td>[72 Spring St, New York, NY 10012, United States]</td>\n",
       "      <td>[{'label': 'display', 'lat': 40.722424, 'lng': -73.99783}]</td>\n",
       "      <td>40.722424</td>\n",
       "      <td>-73.997830</td>\n",
       "      <td>SoHo</td>\n",
       "      <td>10012</td>\n",
       "      <td>NY</td>\n",
       "      <td>5bac05134b78c5002c40ac63</td>\n",
       "    </tr>\n",
       "    <tr>\n",
       "      <th>2</th>\n",
       "      <td>World Trade Center Transportation Hub (The Oculus)</td>\n",
       "      <td>Metro Station</td>\n",
       "      <td>Liberty St &amp; Church Ave</td>\n",
       "      <td>US</td>\n",
       "      <td>New York</td>\n",
       "      <td>United States</td>\n",
       "      <td>Fulton St</td>\n",
       "      <td>496</td>\n",
       "      <td>[Liberty St &amp; Church Ave (Fulton St), New York, NY 10007, United States]</td>\n",
       "      <td>[{'label': 'display', 'lat': 40.71159948119108, 'lng': -74.01146471500397}]</td>\n",
       "      <td>40.711599</td>\n",
       "      <td>-74.011465</td>\n",
       "      <td>NaN</td>\n",
       "      <td>10007</td>\n",
       "      <td>NY</td>\n",
       "      <td>4eb90d85722e09311d356915</td>\n",
       "    </tr>\n",
       "  </tbody>\n",
       "</table>\n",
       "</div>"
      ],
      "text/plain": [
       "                                                 name          categories  \\\n",
       "0  Dante                                               Italian Restaurant   \n",
       "1  Amazon 4-star                                       Miscellaneous Shop   \n",
       "2  World Trade Center Transportation Hub (The Oculus)  Metro Station        \n",
       "\n",
       "                   address  cc      city        country  \\\n",
       "0  79-81 Macdougal St       US  New York  United States   \n",
       "1  72 Spring St             US  New York  United States   \n",
       "2  Liberty St & Church Ave  US  New York  United States   \n",
       "\n",
       "                   crossStreet  distance  \\\n",
       "0  btw Bleecker and W. Houston  1931       \n",
       "1  NaN                          1694       \n",
       "2  Fulton St                    496        \n",
       "\n",
       "                                                                        formattedAddress  \\\n",
       "0  [79-81 Macdougal St (btw Bleecker and W. Houston), New York, NY 10012, United States]   \n",
       "1  [72 Spring St, New York, NY 10012, United States]                                       \n",
       "2  [Liberty St & Church Ave (Fulton St), New York, NY 10007, United States]                \n",
       "\n",
       "                                                                 labeledLatLngs  \\\n",
       "0  [{'label': 'display', 'lat': 40.728847021360245, 'lng': -74.00162166908986}]   \n",
       "1  [{'label': 'display', 'lat': 40.722424, 'lng': -73.99783}]                     \n",
       "2  [{'label': 'display', 'lat': 40.71159948119108, 'lng': -74.01146471500397}]    \n",
       "\n",
       "         lat        lng neighborhood postalCode state  \\\n",
       "0  40.728847 -74.001622  NaN          10012      NY     \n",
       "1  40.722424 -73.997830  SoHo         10012      NY     \n",
       "2  40.711599 -74.011465  NaN          10007      NY     \n",
       "\n",
       "                         id  \n",
       "0  556f4ef2498ee60139b28c72  \n",
       "1  5bac05134b78c5002c40ac63  \n",
       "2  4eb90d85722e09311d356915  "
      ]
     },
     "execution_count": 371,
     "metadata": {},
     "output_type": "execute_result"
    }
   ],
   "source": [
    "if len(results['response']['venues']) == 0:\n",
    "    dataframe_filtered= 'No trending venues are available at the moment!'\n",
    "    \n",
    "else:\n",
    "    dataframe_filtered=dataframe_filtered[dataframe_filtered.categories != 'Restaurant']\n",
    "    dataframe_filtered.head()\n",
    "dataframe_filtered"
   ]
  },
  {
   "cell_type": "markdown",
   "metadata": {},
   "source": [
    "#### Step 9: Presenting the data analysis result to \"Snacks on Wheel\" Business Owner"
   ]
  },
  {
   "cell_type": "code",
   "execution_count": 372,
   "metadata": {},
   "outputs": [
    {
     "name": "stdout",
     "output_type": "stream",
     "text": [
      "*************************************TRENDING VENUS ************************************************************\n"
     ]
    },
    {
     "data": {
      "text/html": [
       "<div>\n",
       "<style scoped>\n",
       "    .dataframe tbody tr th:only-of-type {\n",
       "        vertical-align: middle;\n",
       "    }\n",
       "\n",
       "    .dataframe tbody tr th {\n",
       "        vertical-align: top;\n",
       "    }\n",
       "\n",
       "    .dataframe thead th {\n",
       "        text-align: right;\n",
       "    }\n",
       "</style>\n",
       "<table border=\"1\" class=\"dataframe\">\n",
       "  <thead>\n",
       "    <tr style=\"text-align: right;\">\n",
       "      <th></th>\n",
       "      <th>name</th>\n",
       "      <th>categories</th>\n",
       "      <th>address</th>\n",
       "      <th>city</th>\n",
       "      <th>distance</th>\n",
       "      <th>lat</th>\n",
       "      <th>lng</th>\n",
       "    </tr>\n",
       "  </thead>\n",
       "  <tbody>\n",
       "    <tr>\n",
       "      <th>0</th>\n",
       "      <td>Dante</td>\n",
       "      <td>Italian Restaurant</td>\n",
       "      <td>79-81 Macdougal St</td>\n",
       "      <td>New York</td>\n",
       "      <td>1931</td>\n",
       "      <td>40.728847</td>\n",
       "      <td>-74.001622</td>\n",
       "    </tr>\n",
       "    <tr>\n",
       "      <th>1</th>\n",
       "      <td>Amazon 4-star</td>\n",
       "      <td>Miscellaneous Shop</td>\n",
       "      <td>72 Spring St</td>\n",
       "      <td>New York</td>\n",
       "      <td>1694</td>\n",
       "      <td>40.722424</td>\n",
       "      <td>-73.997830</td>\n",
       "    </tr>\n",
       "    <tr>\n",
       "      <th>2</th>\n",
       "      <td>World Trade Center Transportation Hub (The Oculus)</td>\n",
       "      <td>Metro Station</td>\n",
       "      <td>Liberty St &amp; Church Ave</td>\n",
       "      <td>New York</td>\n",
       "      <td>496</td>\n",
       "      <td>40.711599</td>\n",
       "      <td>-74.011465</td>\n",
       "    </tr>\n",
       "  </tbody>\n",
       "</table>\n",
       "</div>"
      ],
      "text/plain": [
       "                                                 name          categories  \\\n",
       "0  Dante                                               Italian Restaurant   \n",
       "1  Amazon 4-star                                       Miscellaneous Shop   \n",
       "2  World Trade Center Transportation Hub (The Oculus)  Metro Station        \n",
       "\n",
       "                   address      city  distance        lat        lng  \n",
       "0  79-81 Macdougal St       New York  1931      40.728847 -74.001622  \n",
       "1  72 Spring St             New York  1694      40.722424 -73.997830  \n",
       "2  Liberty St & Church Ave  New York  496       40.711599 -74.011465  "
      ]
     },
     "execution_count": 372,
     "metadata": {},
     "output_type": "execute_result"
    }
   ],
   "source": [
    "if len(results['response']['venues']) == 0:\n",
    "    Trending_loc= 'No trending venues are available at the moment!'\n",
    "else:\n",
    "    Trending_loc = dataframe_filtered[['name', 'categories', 'address','city','distance','lat','lng']].copy()\n",
    "\n",
    "print ('*************************************TRENDING VENUS ************************************************************')    \n",
    "Trending_loc\n",
    "\n",
    "\n"
   ]
  },
  {
   "cell_type": "code",
   "execution_count": 373,
   "metadata": {},
   "outputs": [
    {
     "data": {
      "text/html": [
       "<div style=\"width:100%;\"><div style=\"position:relative;width:100%;height:0;padding-bottom:60%;\"><iframe src=\"data:text/html;charset=utf-8;base64,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\" style=\"position:absolute;width:100%;height:100%;left:0;top:0;border:none !important;\" allowfullscreen webkitallowfullscreen mozallowfullscreen></iframe></div></div>"
      ],
      "text/plain": [
       "<folium.folium.Map at 0xd4fc190>"
      ]
     },
     "execution_count": 373,
     "metadata": {},
     "output_type": "execute_result"
    }
   ],
   "source": [
    "if len(results['response']['venues']) == 0:\n",
    "    venues_map = 'Cannot generate visual as no trending venues are available at the moment!'\n",
    "    \n",
    "else:\n",
    "    venues_map = folium.Map(location=[latitude, longitude], zoom_start=15) # generate map centred around the trending location\n",
    "\n",
    "    # add a red circle marker to represent the current location\n",
    "    folium.features.CircleMarker(\n",
    "    [latitude, longitude],\n",
    "    radius=20,\n",
    "    color='red',\n",
    "    popup='Current Location',\n",
    "    fill = True,\n",
    "    fill_color = 'red',\n",
    "    fill_opacity = 0.6\n",
    "    ).add_to(venues_map)\n",
    "    \n",
    "    # add the trending location as blue circle markers\n",
    "    for lat, lng, label in zip(dataframe_filtered.lat, dataframe_filtered.lng, dataframe_filtered.name):\n",
    "        folium.features.CircleMarker(\n",
    "        [lat, lng],\n",
    "        radius=10,\n",
    "        color='blue',\n",
    "        popup=label,\n",
    "        fill = True,\n",
    "        fill_color='blue',\n",
    "        fill_opacity=0.6\n",
    "        ).add_to(venues_map)\n",
    "\n",
    "# display map\n",
    "venues_map"
   ]
  },
  {
   "cell_type": "markdown",
   "metadata": {},
   "source": [
    "###  Nearest Trending Venue Selection Based on Stat. Min distance"
   ]
  },
  {
   "cell_type": "code",
   "execution_count": 374,
   "metadata": {},
   "outputs": [
    {
     "name": "stdout",
     "output_type": "stream",
     "text": [
      "$$$$$$$$$$$$$$$$$$$$$$$$$$$$ Nearest Trending Venue $$$$$$$$$$$$$$$$$$$$$$$$$$$$$$$$$$$$$$$\n"
     ]
    },
    {
     "data": {
      "text/plain": [
       "'World Trade Center Transportation Hub (The Oculus)'"
      ]
     },
     "execution_count": 374,
     "metadata": {},
     "output_type": "execute_result"
    }
   ],
   "source": [
    "ShortPath=dataframe_filtered['distance'].idxmin()\n",
    "\n",
    "print ('$$$$$$$$$$$$$$$$$$$$$$$$$$$$ Nearest Trending Venue $$$$$$$$$$$$$$$$$$$$$$$$$$$$$$$$$$$$$$$')\n",
    "\n",
    "dataframe_filtered['name'].iloc[ShortPath]"
   ]
  },
  {
   "cell_type": "markdown",
   "metadata": {},
   "source": [
    "#### Step 10 : Analyze the Trending Venue Further by Explore near by area."
   ]
  },
  {
   "cell_type": "code",
   "execution_count": 375,
   "metadata": {},
   "outputs": [
    {
     "data": {
      "text/plain": [
       "'https://api.foursquare.com/v2/venues/4eb90d85722e09311d356915?client_id=YM4DEIRN1QRSQKLOKOMVW5LOFGR32DJPPSP2ASJOSPG5ISV5&client_secret=XWG2KZR0RV0PNUSC3JUWLQA3RFWPJBLRGTKC2V1BHNKDYSYD&v=20180605'"
      ]
     },
     "execution_count": 375,
     "metadata": {},
     "output_type": "execute_result"
    }
   ],
   "source": [
    "venue_id = dataframe_filtered['id'].iloc[ShortPath]\n",
    "\n",
    "url = 'https://api.foursquare.com/v2/venues/{}?client_id={}&client_secret={}&v={}'.format(venue_id, CLIENT_ID, CLIENT_SECRET, VERSION)\n",
    "url"
   ]
  },
  {
   "cell_type": "code",
   "execution_count": 376,
   "metadata": {},
   "outputs": [
    {
     "name": "stdout",
     "output_type": "stream",
     "text": [
      "dict_keys(['id', 'name', 'contact', 'location', 'canonicalUrl', 'categories', 'verified', 'stats', 'url', 'likes', 'dislike', 'ok', 'venueRatingBlacklisted', 'beenHere', 'specials', 'photos', 'reasons', 'description', 'hereNow', 'createdAt', 'tips', 'shortUrl', 'timeZone', 'listed', 'hours', 'popular', 'pageUpdates', 'inbox', 'attributes', 'bestPhoto', 'colors'])\n"
     ]
    },
    {
     "data": {
      "text/plain": [
       "{'id': '4eb90d85722e09311d356915',\n",
       " 'name': 'World Trade Center Transportation Hub (The Oculus)',\n",
       " 'contact': {'facebook': '109423129134934',\n",
       "  'facebookUsername': 'wtcprogress',\n",
       "  'facebookName': 'WTC Progress'},\n",
       " 'location': {'address': 'Liberty St & Church Ave',\n",
       "  'crossStreet': 'Fulton St',\n",
       "  'lat': 40.71159948119108,\n",
       "  'lng': -74.01146471500397,\n",
       "  'labeledLatLngs': [{'label': 'display',\n",
       "    'lat': 40.71159948119108,\n",
       "    'lng': -74.01146471500397}],\n",
       "  'postalCode': '10007',\n",
       "  'cc': 'US',\n",
       "  'city': 'New York',\n",
       "  'state': 'NY',\n",
       "  'country': 'United States',\n",
       "  'formattedAddress': ['Liberty St & Church Ave (Fulton St)',\n",
       "   'New York, NY 10007',\n",
       "   'United States']},\n",
       " 'canonicalUrl': 'https://foursquare.com/v/world-trade-center-transportation-hub-the-oculus/4eb90d85722e09311d356915',\n",
       " 'categories': [{'id': '4bf58dd8d48988d1fd931735',\n",
       "   'name': 'Metro Station',\n",
       "   'pluralName': 'Metro Stations',\n",
       "   'shortName': 'Metro',\n",
       "   'icon': {'prefix': 'https://ss3.4sqi.net/img/categories_v2/travel/subway_',\n",
       "    'suffix': '.png'},\n",
       "   'primary': True}],\n",
       " 'verified': False,\n",
       " 'stats': {'tipCount': 72},\n",
       " 'url': 'http://www.panynj.gov/wtcprogress/transportation-hub.html',\n",
       " 'likes': {'count': 814,\n",
       "  'groups': [{'type': 'others', 'count': 814, 'items': []}],\n",
       "  'summary': '814 Likes'},\n",
       " 'dislike': False,\n",
       " 'ok': False,\n",
       " 'venueRatingBlacklisted': True,\n",
       " 'beenHere': {'count': 0,\n",
       "  'unconfirmedCount': 0,\n",
       "  'marked': False,\n",
       "  'lastCheckinExpiredAt': 0},\n",
       " 'specials': {'count': 0, 'items': []},\n",
       " 'photos': {'count': 4426,\n",
       "  'groups': [{'type': 'checkin',\n",
       "    'name': \"Friends' check-in photos\",\n",
       "    'count': 0,\n",
       "    'items': []},\n",
       "   {'type': 'venue',\n",
       "    'name': 'Venue photos',\n",
       "    'count': 4426,\n",
       "    'items': [{'id': '52695ef0498e71a9074cee0c',\n",
       "      'createdAt': 1382637296,\n",
       "      'source': {'name': 'Foursquare for Android',\n",
       "       'url': 'https://foursquare.com/download/#/android'},\n",
       "      'prefix': 'https://igx.4sqi.net/img/general/',\n",
       "      'suffix': '/2976_Z5zzbO1KP0E5RSr3t2VzMM8vc2JBMCERh3-te6ia6b0.jpg',\n",
       "      'width': 720,\n",
       "      'height': 960,\n",
       "      'user': {'id': '2976',\n",
       "       'firstName': 'Bob',\n",
       "       'lastName': 'DeAmbra',\n",
       "       'gender': 'male',\n",
       "       'photo': {'prefix': 'https://igx.4sqi.net/img/user/',\n",
       "        'suffix': '/CAZA4GNBB1PGBFMP.jpg'}},\n",
       "      'visibility': 'public'}]}],\n",
       "  'summary': '0 photos'},\n",
       " 'reasons': {'count': 1,\n",
       "  'items': [{'summary': 'Lots of people like this place',\n",
       "    'type': 'general',\n",
       "    'reasonName': 'rawLikesReason'}]},\n",
       " 'description': 'The state-of-the-art World Trade Center Transportation Hub will serve 250,000 daily commuters and millions of annual visitors from around the world.',\n",
       " 'hereNow': {'count': 7,\n",
       "  'summary': '7 people are here',\n",
       "  'groups': [{'type': 'others',\n",
       "    'name': 'Other people here',\n",
       "    'count': 7,\n",
       "    'items': []}]},\n",
       " 'createdAt': 1320750469,\n",
       " 'tips': {'count': 72,\n",
       "  'groups': [{'type': 'others',\n",
       "    'name': 'All tips',\n",
       "    'count': 72,\n",
       "    'items': [{'id': '5329f4d0498ecd9a2a3f6f90',\n",
       "      'createdAt': 1395258576,\n",
       "      'text': 'Architect Santiago Calatrava wooed the city 10 years ago when he proposed this \"bird in flight\" design. Now that it\\'s actually rising on the site, it certainly inspires a bit of awe.',\n",
       "      'type': 'user',\n",
       "      'url': 'http://ny.curbed.com/archives/2014/03/19/santiago_calatravas_flying_bird_takes_shape_at_the_wtc.php',\n",
       "      'canonicalUrl': 'https://foursquare.com/item/5329f4d0498ecd9a2a3f6f90',\n",
       "      'photo': {'id': '5329f4dd498e3a90df02fb62',\n",
       "       'createdAt': 1395258589,\n",
       "       'source': {'name': 'Foursquare Web', 'url': 'https://foursquare.com'},\n",
       "       'prefix': 'https://igx.4sqi.net/img/general/',\n",
       "       'suffix': '/12881355_851WLA5f6oNgiklhr6mgMJkkKioakRs2fNIYqT6gDO4.jpg',\n",
       "       'width': 960,\n",
       "       'height': 639,\n",
       "       'visibility': 'public'},\n",
       "      'photourl': 'https://igx.4sqi.net/img/general/original/12881355_851WLA5f6oNgiklhr6mgMJkkKioakRs2fNIYqT6gDO4.jpg',\n",
       "      'lang': 'en',\n",
       "      'likes': {'count': 5,\n",
       "       'groups': [{'type': 'others',\n",
       "         'count': 5,\n",
       "         'items': [{'id': '77249101',\n",
       "           'firstName': 'ms',\n",
       "           'gender': 'female',\n",
       "           'photo': {'prefix': 'https://igx.4sqi.net/img/user/',\n",
       "            'suffix': '/77249101-QX0WSNOVIIA2P43C.jpg'}},\n",
       "          {'id': '20455648',\n",
       "           'firstName': 'Zane',\n",
       "           'gender': 'male',\n",
       "           'photo': {'prefix': 'https://igx.4sqi.net/img/user/',\n",
       "            'suffix': '/ZHB5FWHO2KFFGBA4.jpg'}},\n",
       "          {'id': '80937004',\n",
       "           'firstName': 'Clifford',\n",
       "           'lastName': 'Padilla',\n",
       "           'gender': 'male',\n",
       "           'photo': {'prefix': 'https://igx.4sqi.net/img/user/',\n",
       "            'suffix': '/80937004-KQMN12MFVDJTFDOW.jpg'}},\n",
       "          {'id': '115467',\n",
       "           'firstName': 'Bridgette',\n",
       "           'lastName': 'D.',\n",
       "           'gender': 'female',\n",
       "           'photo': {'prefix': 'https://igx.4sqi.net/img/user/',\n",
       "            'suffix': '/G2TAWEANKNDEX1IT.jpg'}}]}],\n",
       "       'summary': '5 likes'},\n",
       "      'logView': True,\n",
       "      'agreeCount': 19,\n",
       "      'disagreeCount': 0,\n",
       "      'lastVoteText': 'Upvoted 2 hours ago',\n",
       "      'lastUpvoteTimestamp': 1538328020,\n",
       "      'todo': {'count': 1},\n",
       "      'user': {'id': '12881355',\n",
       "       'firstName': 'Curbed',\n",
       "       'gender': 'none',\n",
       "       'photo': {'prefix': 'https://igx.4sqi.net/img/user/',\n",
       "        'suffix': '/SD0BCH5DECAWG4WH.png'},\n",
       "       'type': 'page'}}]}]},\n",
       " 'shortUrl': 'http://4sq.com/ujROHY',\n",
       " 'timeZone': 'America/New_York',\n",
       " 'listed': {'count': 282,\n",
       "  'groups': [{'type': 'others',\n",
       "    'name': 'Lists from other people',\n",
       "    'count': 282,\n",
       "    'items': [{'id': '5550f48b498e5d3067c36795',\n",
       "      'name': '13 Architectural Marvels in NYC',\n",
       "      'description': \"Whether you're a native or a newbie, you appreciate the changing face of NYC. Take the time to check out 13 of the city's most jaw-dropping gems, and leave your tips so we see them like you do.\",\n",
       "      'type': 'others',\n",
       "      'user': {'id': '23438729',\n",
       "       'firstName': 'Foursquare City Guide',\n",
       "       'gender': 'none',\n",
       "       'photo': {'prefix': 'https://igx.4sqi.net/img/user/',\n",
       "        'suffix': '/23438729-TODURDIUDUMY4JF5.png'},\n",
       "       'type': 'page'},\n",
       "      'editable': False,\n",
       "      'public': True,\n",
       "      'collaborative': False,\n",
       "      'url': '/foursquare/list/13-architectural-marvels-in-nyc',\n",
       "      'canonicalUrl': 'https://foursquare.com/foursquare/list/13-architectural-marvels-in-nyc',\n",
       "      'createdAt': 1431368843,\n",
       "      'updatedAt': 1432687423,\n",
       "      'photo': {'id': '554cf447498e10f6c9cdd8dc',\n",
       "       'createdAt': 1431106631,\n",
       "       'prefix': 'https://igx.4sqi.net/img/general/',\n",
       "       'suffix': '/1025284_bDCmGRRTvDZx5_cf4M_G-LU_OLTRXmO8TNioxVEUMLA.jpg',\n",
       "       'width': 1440,\n",
       "       'height': 1920,\n",
       "       'user': {'id': '1025284',\n",
       "        'firstName': 'Diane',\n",
       "        'lastName': 'Cimine',\n",
       "        'gender': 'female',\n",
       "        'photo': {'prefix': 'https://igx.4sqi.net/img/user/',\n",
       "         'suffix': '/QRWO5JU3VYGU35VP.jpg'}},\n",
       "       'visibility': 'public'},\n",
       "      'logView': True,\n",
       "      'guideType': 'bestOf',\n",
       "      'guide': True,\n",
       "      'followers': {'count': 206},\n",
       "      'listItems': {'count': 13,\n",
       "       'items': [{'id': 't54ac5de8498eb714501f3328',\n",
       "         'createdAt': 1432668585,\n",
       "         'photo': {'id': '526d74f911d2d42b87105570',\n",
       "          'createdAt': 1382905081,\n",
       "          'prefix': 'https://igx.4sqi.net/img/general/',\n",
       "          'suffix': '/764864_W6OPYOk81TA4rH-qkzHK4XqotBBtzgUaGy9wvXrBShc.jpg',\n",
       "          'width': 720,\n",
       "          'height': 720,\n",
       "          'user': {'id': '764864',\n",
       "           'firstName': 'Corbin',\n",
       "           'lastName': 'Page',\n",
       "           'gender': 'male',\n",
       "           'photo': {'prefix': 'https://igx.4sqi.net/img/user/',\n",
       "            'suffix': '/764864-05PMXC451CLZ3QHT.jpg'}},\n",
       "          'visibility': 'public'}}]}},\n",
       "     {'id': '4fddef57e4b0d60dd9072d2e',\n",
       "      'name': 'Tourist attractions NYC',\n",
       "      'description': 'Great places to visit while in one of the greatest cities in the world.',\n",
       "      'type': 'others',\n",
       "      'user': {'id': '21563126',\n",
       "       'firstName': 'Richard',\n",
       "       'lastName': 'Revilla',\n",
       "       'gender': 'male',\n",
       "       'photo': {'prefix': 'https://igx.4sqi.net/img/user/',\n",
       "        'suffix': '/21563126_v05J1KPw_SVj6Ehq9g8B9jeAGjFUMsU5QGl-NZ8inUQ7pKQm5bKplW37EmR7jS2A7GYPBBAtl.jpg'}},\n",
       "      'editable': False,\n",
       "      'public': True,\n",
       "      'collaborative': True,\n",
       "      'url': '/rickr7/list/tourist-attractions-nyc',\n",
       "      'canonicalUrl': 'https://foursquare.com/rickr7/list/tourist-attractions-nyc',\n",
       "      'createdAt': 1339944791,\n",
       "      'updatedAt': 1538276595,\n",
       "      'photo': {'id': '4ed7fe94a17c6e17b5f4f709',\n",
       "       'createdAt': 1322778260,\n",
       "       'prefix': 'https://igx.4sqi.net/img/general/',\n",
       "       'suffix': '/MKMA01YXBX2RMG1HRYRQKATMGIMDU54EUX5ZMLVZLEKYM0MC.jpg',\n",
       "       'width': 202,\n",
       "       'height': 320,\n",
       "       'user': {'id': '1759442',\n",
       "        'firstName': '(RED)',\n",
       "        'gender': 'none',\n",
       "        'photo': {'prefix': 'https://igx.4sqi.net/img/user/',\n",
       "         'suffix': '/5AWHPUSMOBHWC1BA.jpg'},\n",
       "        'type': 'page'},\n",
       "       'visibility': 'friends'},\n",
       "      'followers': {'count': 34},\n",
       "      'listItems': {'count': 190,\n",
       "       'items': [{'id': 'v4eb90d85722e09311d356915',\n",
       "         'createdAt': 1486611104}]}},\n",
       "     {'id': '50fdf7c2e4b03727c26a5986',\n",
       "      'name': \"NY'ın En İyileri 🗽\",\n",
       "      'description': '',\n",
       "      'type': 'others',\n",
       "      'user': {'id': '11173093',\n",
       "       'firstName': 'Dilek',\n",
       "       'lastName': 'Kazak',\n",
       "       'gender': 'female',\n",
       "       'photo': {'prefix': 'https://igx.4sqi.net/img/user/',\n",
       "        'suffix': '/11173093-OE5512N25COXOX3O.jpg'}},\n",
       "      'editable': False,\n",
       "      'public': True,\n",
       "      'collaborative': False,\n",
       "      'url': '/dilekkazak/list/ny%C4%B1n-en-iyileri-',\n",
       "      'canonicalUrl': 'https://foursquare.com/dilekkazak/list/ny%C4%B1n-en-iyileri-',\n",
       "      'createdAt': 1358821314,\n",
       "      'updatedAt': 1528395958,\n",
       "      'followers': {'count': 24},\n",
       "      'listItems': {'count': 198,\n",
       "       'items': [{'id': 'v4eb90d85722e09311d356915',\n",
       "         'createdAt': 1478744949}]}},\n",
       "     {'id': '55432ab8498eda40d22b0ddf',\n",
       "      'name': 'New York City',\n",
       "      'description': 'My favourite spots in NYC',\n",
       "      'type': 'others',\n",
       "      'user': {'id': '8552899',\n",
       "       'firstName': 'Elena',\n",
       "       'lastName': 'Bazu',\n",
       "       'gender': 'female',\n",
       "       'photo': {'prefix': 'https://igx.4sqi.net/img/user/',\n",
       "        'suffix': '/8552899-SAO1OIRTYOFLXY02.jpg'}},\n",
       "      'editable': False,\n",
       "      'public': True,\n",
       "      'collaborative': False,\n",
       "      'url': '/elenabazu/list/new-york-city',\n",
       "      'canonicalUrl': 'https://foursquare.com/elenabazu/list/new-york-city',\n",
       "      'createdAt': 1430465208,\n",
       "      'updatedAt': 1521179637,\n",
       "      'photo': {'id': '50651510e4b0a396ba8fe4e7',\n",
       "       'createdAt': 1348801808,\n",
       "       'prefix': 'https://igx.4sqi.net/img/general/',\n",
       "       'suffix': '/6717307_dc4RLB4bPuh4pCVYXHX-cCwNu2r0rTq_e0uDKv3wlA8.jpg',\n",
       "       'width': 540,\n",
       "       'height': 720,\n",
       "       'user': {'id': '6717307',\n",
       "        'firstName': 'Kate',\n",
       "        'lastName': 'K',\n",
       "        'gender': 'female',\n",
       "        'photo': {'prefix': 'https://igx.4sqi.net/img/user/',\n",
       "         'suffix': '/6717307-ZNL044QKV5KIVW5D.jpg'}},\n",
       "       'visibility': 'public'},\n",
       "      'followers': {'count': 50},\n",
       "      'listItems': {'count': 203,\n",
       "       'items': [{'id': 'v4eb90d85722e09311d356915',\n",
       "         'createdAt': 1438765755}]}}]}]},\n",
       " 'hours': {'status': 'Open',\n",
       "  'richStatus': {'entities': [], 'text': 'Open'},\n",
       "  'isOpen': True,\n",
       "  'isLocalHoliday': False,\n",
       "  'dayData': [],\n",
       "  'timeframes': [{'days': 'Mon–Sun',\n",
       "    'includesToday': True,\n",
       "    'open': [{'renderedTime': '24 Hours'}],\n",
       "    'segments': []}]},\n",
       " 'popular': {'status': 'Likely open',\n",
       "  'richStatus': {'entities': [], 'text': 'Likely open'},\n",
       "  'isOpen': True,\n",
       "  'isLocalHoliday': False,\n",
       "  'timeframes': [{'days': 'Today',\n",
       "    'includesToday': True,\n",
       "    'open': [{'renderedTime': '11:00 AM–7:00 PM'}],\n",
       "    'segments': []},\n",
       "   {'days': 'Mon',\n",
       "    'open': [{'renderedTime': '8:00 AM–8:00 PM'}],\n",
       "    'segments': []},\n",
       "   {'days': 'Tue–Thu',\n",
       "    'open': [{'renderedTime': '8:00 AM–1:00 PM'},\n",
       "     {'renderedTime': '4:00 PM–8:00 PM'}],\n",
       "    'segments': []},\n",
       "   {'days': 'Fri',\n",
       "    'open': [{'renderedTime': '8:00 AM–8:00 PM'}],\n",
       "    'segments': []},\n",
       "   {'days': 'Sat',\n",
       "    'open': [{'renderedTime': '11:00 AM–8:00 PM'}],\n",
       "    'segments': []}]},\n",
       " 'pageUpdates': {'count': 0, 'items': []},\n",
       " 'inbox': {'count': 0, 'items': []},\n",
       " 'attributes': {'groups': [{'type': 'payments',\n",
       "    'name': 'Credit Cards',\n",
       "    'summary': 'Credit Cards',\n",
       "    'count': 7,\n",
       "    'items': [{'displayName': 'Credit Cards',\n",
       "      'displayValue': 'Yes (incl. Discover & Visa)'}]},\n",
       "   {'type': 'wifi',\n",
       "    'name': 'Wi-Fi',\n",
       "    'summary': 'Free Wi-Fi',\n",
       "    'count': 1,\n",
       "    'items': [{'displayName': 'Wi-Fi', 'displayValue': 'Free'}]}]},\n",
       " 'bestPhoto': {'id': '52695ef0498e71a9074cee0c',\n",
       "  'createdAt': 1382637296,\n",
       "  'source': {'name': 'Foursquare for Android',\n",
       "   'url': 'https://foursquare.com/download/#/android'},\n",
       "  'prefix': 'https://igx.4sqi.net/img/general/',\n",
       "  'suffix': '/2976_Z5zzbO1KP0E5RSr3t2VzMM8vc2JBMCERh3-te6ia6b0.jpg',\n",
       "  'width': 720,\n",
       "  'height': 960,\n",
       "  'visibility': 'public'},\n",
       " 'colors': {'highlightColor': {'photoId': '52695ef0498e71a9074cee0c',\n",
       "   'value': -9404304},\n",
       "  'highlightTextColor': {'photoId': '52695ef0498e71a9074cee0c',\n",
       "   'value': -16777216},\n",
       "  'algoVersion': 3}}"
      ]
     },
     "execution_count": 376,
     "metadata": {},
     "output_type": "execute_result"
    }
   ],
   "source": [
    "result = requests.get(url).json()\n",
    "print(result['response']['venue'].keys())\n",
    "result['response']['venue']"
   ]
  },
  {
   "cell_type": "markdown",
   "metadata": {},
   "source": [
    "### Venue Rating "
   ]
  },
  {
   "cell_type": "code",
   "execution_count": 377,
   "metadata": {},
   "outputs": [
    {
     "name": "stdout",
     "output_type": "stream",
     "text": [
      "This venue has not been rated yet.\n"
     ]
    }
   ],
   "source": [
    "try:\n",
    "    print(result['response']['venue']['rating'])\n",
    "except:\n",
    "    print('This venue has not been rated yet.')"
   ]
  },
  {
   "cell_type": "markdown",
   "metadata": {},
   "source": [
    "###  Number of tips"
   ]
  },
  {
   "cell_type": "code",
   "execution_count": 378,
   "metadata": {},
   "outputs": [
    {
     "data": {
      "text/plain": [
       "72"
      ]
     },
     "execution_count": 378,
     "metadata": {},
     "output_type": "execute_result"
    }
   ],
   "source": [
    "result['response']['venue']['tips']['count']"
   ]
  },
  {
   "cell_type": "markdown",
   "metadata": {},
   "source": [
    "### Venue's tips in details"
   ]
  },
  {
   "cell_type": "code",
   "execution_count": 379,
   "metadata": {},
   "outputs": [
    {
     "data": {
      "text/plain": [
       "{'meta': {'code': 200, 'requestId': '5bb12b044c1f6750c6bc6504'},\n",
       " 'response': {'tips': {'count': 72,\n",
       "   'items': [{'id': '585d6c6a00841a6cd0abb1f0',\n",
       "     'createdAt': 1482517610,\n",
       "     'text': \"Great architecture, people watching, and shopping. Occasionally there will be special events. If you're going to check it out avoid rush hour as you will get trampled.\",\n",
       "     'type': 'user',\n",
       "     'canonicalUrl': 'https://foursquare.com/item/585d6c6a00841a6cd0abb1f0',\n",
       "     'photo': {'id': '585d6c6ca598b313199e9f76',\n",
       "      'createdAt': 1482517612,\n",
       "      'source': {'name': 'Foursquare for iOS',\n",
       "       'url': 'https://foursquare.com/download/#/iphone'},\n",
       "      'prefix': 'https://igx.4sqi.net/img/general/',\n",
       "      'suffix': '/13242960_Hkk6W4_voyN8WXZ2P6N7IZ7HwBhZ_ExIAPjsreF0y2A.jpg',\n",
       "      'width': 1440,\n",
       "      'height': 1920,\n",
       "      'visibility': 'public'},\n",
       "     'photourl': 'https://igx.4sqi.net/img/general/original/13242960_Hkk6W4_voyN8WXZ2P6N7IZ7HwBhZ_ExIAPjsreF0y2A.jpg',\n",
       "     'lang': 'en',\n",
       "     'likes': {'count': 0, 'groups': []},\n",
       "     'logView': True,\n",
       "     'agreeCount': 12,\n",
       "     'disagreeCount': 0,\n",
       "     'lastVoteText': 'Upvoted 4 days ago',\n",
       "     'lastUpvoteTimestamp': 1537978495,\n",
       "     'todo': {'count': 0},\n",
       "     'user': {'id': '13242960',\n",
       "      'firstName': 'Taiowa',\n",
       "      'lastName': 'Waner',\n",
       "      'gender': 'male',\n",
       "      'photo': {'prefix': 'https://igx.4sqi.net/img/user/',\n",
       "       'suffix': '/13242960_HOWFF1-F_5IDz2YqKT91_VoTXLRQgNgQGN9c99C3OyT0wolvPvxn5zOXyqUqq5E60B-qQyJFN.jpg'}},\n",
       "     'authorInteractionType': 'liked'}]}}}"
      ]
     },
     "execution_count": 379,
     "metadata": {},
     "output_type": "execute_result"
    }
   ],
   "source": [
    "limit = 15 # set limit to be greater than or equal to the total number of tips\n",
    "url = 'https://api.foursquare.com/v2/venues/{}/tips?client_id={}&client_secret={}&v={}&limit={}'.format(venue_id, CLIENT_ID, CLIENT_SECRET, VERSION, limit)\n",
    "\n",
    "results = requests.get(url).json()\n",
    "results"
   ]
  },
  {
   "cell_type": "code",
   "execution_count": 380,
   "metadata": {},
   "outputs": [
    {
     "data": {
      "text/plain": [
       "dict_keys(['id', 'createdAt', 'text', 'type', 'canonicalUrl', 'photo', 'photourl', 'lang', 'likes', 'logView', 'agreeCount', 'disagreeCount', 'lastVoteText', 'lastUpvoteTimestamp', 'todo', 'user', 'authorInteractionType'])"
      ]
     },
     "execution_count": 380,
     "metadata": {},
     "output_type": "execute_result"
    }
   ],
   "source": [
    "tips = results['response']['tips']['items']\n",
    "\n",
    "tip = results['response']['tips']['items'][0]\n",
    "tip.keys()"
   ]
  },
  {
   "cell_type": "code",
   "execution_count": 381,
   "metadata": {},
   "outputs": [
    {
     "name": "stdout",
     "output_type": "stream",
     "text": [
      "############################ Venue's Tips###########################\n"
     ]
    },
    {
     "data": {
      "text/html": [
       "<div>\n",
       "<style scoped>\n",
       "    .dataframe tbody tr th:only-of-type {\n",
       "        vertical-align: middle;\n",
       "    }\n",
       "\n",
       "    .dataframe tbody tr th {\n",
       "        vertical-align: top;\n",
       "    }\n",
       "\n",
       "    .dataframe thead th {\n",
       "        text-align: right;\n",
       "    }\n",
       "</style>\n",
       "<table border=\"1\" class=\"dataframe\">\n",
       "  <thead>\n",
       "    <tr style=\"text-align: right;\">\n",
       "      <th></th>\n",
       "      <th>text</th>\n",
       "      <th>agreeCount</th>\n",
       "      <th>disagreeCount</th>\n",
       "      <th>id</th>\n",
       "      <th>user.firstName</th>\n",
       "      <th>user.lastName</th>\n",
       "      <th>user.gender</th>\n",
       "      <th>user.id</th>\n",
       "    </tr>\n",
       "  </thead>\n",
       "  <tbody>\n",
       "    <tr>\n",
       "      <th>0</th>\n",
       "      <td>Great architecture, people watching, and shopping. Occasionally there will be special events. If you're going to check it out avoid rush hour as you will get trampled.</td>\n",
       "      <td>12</td>\n",
       "      <td>0</td>\n",
       "      <td>585d6c6a00841a6cd0abb1f0</td>\n",
       "      <td>Taiowa</td>\n",
       "      <td>Waner</td>\n",
       "      <td>male</td>\n",
       "      <td>13242960</td>\n",
       "    </tr>\n",
       "  </tbody>\n",
       "</table>\n",
       "</div>"
      ],
      "text/plain": [
       "                                                                                                                                                                      text  \\\n",
       "0  Great architecture, people watching, and shopping. Occasionally there will be special events. If you're going to check it out avoid rush hour as you will get trampled.   \n",
       "\n",
       "   agreeCount  disagreeCount                        id user.firstName  \\\n",
       "0  12          0              585d6c6a00841a6cd0abb1f0  Taiowa          \n",
       "\n",
       "  user.lastName user.gender   user.id  \n",
       "0  Waner         male        13242960  "
      ]
     },
     "execution_count": 381,
     "metadata": {},
     "output_type": "execute_result"
    }
   ],
   "source": [
    "pd.set_option('display.max_colwidth', -1)\n",
    "\n",
    "tips_df = json_normalize(tips) # json normalize tips\n",
    "\n",
    "# columns to keep\n",
    "filtered_columns = ['text', 'agreeCount', 'disagreeCount', 'id', 'user.firstName', 'user.lastName', 'user.gender', 'user.id']\n",
    "tips_filtered = tips_df.loc[:, filtered_columns]\n",
    "\n",
    "\n",
    "# display tips\n",
    "print(\"############################ Venue's Tips###########################\")\n",
    "\n",
    "tips_filtered"
   ]
  },
  {
   "cell_type": "markdown",
   "metadata": {},
   "source": [
    "### Analyze about the user who gave the tip "
   ]
  },
  {
   "cell_type": "code",
   "execution_count": 382,
   "metadata": {},
   "outputs": [
    {
     "data": {
      "text/plain": [
       "dict_keys(['id', 'firstName', 'lastName', 'gender', 'canonicalUrl', 'photo', 'friends', 'tips', 'homeCity', 'bio', 'contact', 'photos', 'type', 'mayorships', 'checkins', 'lists', 'lenses'])"
      ]
     },
     "execution_count": 382,
     "metadata": {},
     "output_type": "execute_result"
    }
   ],
   "source": [
    "user_id = tips_filtered['user.id'].iloc[0] # user ID with most agree counts and complete profile\n",
    "\n",
    "url = 'https://api.foursquare.com/v2/users/{}?client_id={}&client_secret={}&v={}'.format(user_id, CLIENT_ID, CLIENT_SECRET, VERSION) # define URL\n",
    "\n",
    "# send GET request\n",
    "results = requests.get(url).json()\n",
    "user_data = results['response']['user']\n",
    "\n",
    "# display features associated with user\n",
    "user_data.keys()\n"
   ]
  },
  {
   "cell_type": "markdown",
   "metadata": {},
   "source": [
    "### User Name & Contact details for further details if needed"
   ]
  },
  {
   "cell_type": "code",
   "execution_count": 383,
   "metadata": {},
   "outputs": [
    {
     "name": "stdout",
     "output_type": "stream",
     "text": [
      "First Name: Taiowa\n",
      "Home City: NYC\n",
      "contact: {}\n"
     ]
    }
   ],
   "source": [
    "print('First Name: ' + user_data['firstName'])\n",
    "print('Home City: ' + user_data['homeCity'])\n",
    "print('contact: ' + str(user_data['contact']))"
   ]
  },
  {
   "cell_type": "markdown",
   "metadata": {},
   "source": [
    "#### Step 11 :  Explore the location Further before final decision\n",
    "\n"
   ]
  },
  {
   "cell_type": "code",
   "execution_count": 384,
   "metadata": {},
   "outputs": [
    {
     "data": {
      "text/plain": [
       "'https://api.foursquare.com/v2/venues/explore?client_id=YM4DEIRN1QRSQKLOKOMVW5LOFGR32DJPPSP2ASJOSPG5ISV5&client_secret=XWG2KZR0RV0PNUSC3JUWLQA3RFWPJBLRGTKC2V1BHNKDYSYD&ll=40.71159948119108,-74.01146471500397&v=20180605&radius=2000&limit=20'"
      ]
     },
     "execution_count": 384,
     "metadata": {},
     "output_type": "execute_result"
    }
   ],
   "source": [
    "latitude = dataframe_filtered['lat'].iloc[ShortPath]\n",
    "longitude = dataframe_filtered['lng'].iloc[ShortPath]\n",
    "LIMIT=20\n",
    "url = 'https://api.foursquare.com/v2/venues/explore?client_id={}&client_secret={}&ll={},{}&v={}&radius={}&limit={}'.format(CLIENT_ID, CLIENT_SECRET, latitude, longitude, VERSION, radius, LIMIT)\n",
    "url\n",
    "\n"
   ]
  },
  {
   "cell_type": "code",
   "execution_count": 385,
   "metadata": {},
   "outputs": [],
   "source": [
    "import requests"
   ]
  },
  {
   "cell_type": "code",
   "execution_count": 386,
   "metadata": {},
   "outputs": [
    {
     "data": {
      "text/plain": [
       "'There are 20 landmarks around this venue.'"
      ]
     },
     "execution_count": 386,
     "metadata": {},
     "output_type": "execute_result"
    }
   ],
   "source": [
    "results = requests.get(url).json()\n",
    "'There are {} landmarks around this venue.'.format(len(results['response']['groups'][0]['items']))"
   ]
  },
  {
   "cell_type": "code",
   "execution_count": 387,
   "metadata": {},
   "outputs": [
    {
     "data": {
      "text/plain": [
       "{'reasons': {'count': 0,\n",
       "  'items': [{'summary': 'This spot is popular',\n",
       "    'type': 'general',\n",
       "    'reasonName': 'globalInteractionReason'}]},\n",
       " 'venue': {'id': '4b6b5abff964a520fb022ce3',\n",
       "  'name': 'National September 11 Memorial & Museum',\n",
       "  'location': {'address': '180 Greenwich St',\n",
       "   'crossStreet': 'btwn Liberty & Fulton St',\n",
       "   'lat': 40.71145106322093,\n",
       "   'lng': -74.0134334564209,\n",
       "   'labeledLatLngs': [{'label': 'display',\n",
       "     'lat': 40.71145106322093,\n",
       "     'lng': -74.0134334564209}],\n",
       "   'distance': 166,\n",
       "   'postalCode': '10006',\n",
       "   'cc': 'US',\n",
       "   'city': 'New York',\n",
       "   'state': 'NY',\n",
       "   'country': 'United States',\n",
       "   'formattedAddress': ['180 Greenwich St (btwn Liberty & Fulton St)',\n",
       "    'New York, NY 10006',\n",
       "    'United States']},\n",
       "  'categories': [{'id': '5642206c498e4bfca532186c',\n",
       "    'name': 'Memorial Site',\n",
       "    'pluralName': 'Memorial Sites',\n",
       "    'shortName': 'Memorial Site',\n",
       "    'icon': {'prefix': 'https://ss3.4sqi.net/img/categories_v2/arts_entertainment/historicsite_',\n",
       "     'suffix': '.png'},\n",
       "    'primary': True}],\n",
       "  'photos': {'count': 0, 'groups': []}},\n",
       " 'referralId': 'e-0-4b6b5abff964a520fb022ce3-0'}"
      ]
     },
     "execution_count": 387,
     "metadata": {},
     "output_type": "execute_result"
    }
   ],
   "source": [
    "items = results['response']['groups'][0]['items']\n",
    "items[0]"
   ]
  },
  {
   "cell_type": "markdown",
   "metadata": {},
   "source": [
    "###   Popular Spots  Near BY Trending Venue"
   ]
  },
  {
   "cell_type": "code",
   "execution_count": 388,
   "metadata": {},
   "outputs": [
    {
     "name": "stdout",
     "output_type": "stream",
     "text": [
      "@@@@@@@@@@@@@@@@@@@@@@@@@@@@@@@@@@@ Popular Spots  Near BY Trending Venue Area @@@@@@@@@@@@@@@@@@@@@@@@@@@@@@@@@@@@@@@@\n"
     ]
    },
    {
     "data": {
      "text/html": [
       "<div>\n",
       "<style scoped>\n",
       "    .dataframe tbody tr th:only-of-type {\n",
       "        vertical-align: middle;\n",
       "    }\n",
       "\n",
       "    .dataframe tbody tr th {\n",
       "        vertical-align: top;\n",
       "    }\n",
       "\n",
       "    .dataframe thead th {\n",
       "        text-align: right;\n",
       "    }\n",
       "</style>\n",
       "<table border=\"1\" class=\"dataframe\">\n",
       "  <thead>\n",
       "    <tr style=\"text-align: right;\">\n",
       "      <th></th>\n",
       "      <th>name</th>\n",
       "      <th>categories</th>\n",
       "      <th>address</th>\n",
       "      <th>cc</th>\n",
       "      <th>city</th>\n",
       "      <th>country</th>\n",
       "      <th>crossStreet</th>\n",
       "      <th>distance</th>\n",
       "      <th>formattedAddress</th>\n",
       "      <th>labeledLatLngs</th>\n",
       "      <th>lat</th>\n",
       "      <th>lng</th>\n",
       "      <th>neighborhood</th>\n",
       "      <th>postalCode</th>\n",
       "      <th>state</th>\n",
       "      <th>id</th>\n",
       "    </tr>\n",
       "  </thead>\n",
       "  <tbody>\n",
       "    <tr>\n",
       "      <th>0</th>\n",
       "      <td>National September 11 Memorial &amp; Museum</td>\n",
       "      <td>Memorial Site</td>\n",
       "      <td>180 Greenwich St</td>\n",
       "      <td>US</td>\n",
       "      <td>New York</td>\n",
       "      <td>United States</td>\n",
       "      <td>btwn Liberty &amp; Fulton St</td>\n",
       "      <td>166</td>\n",
       "      <td>[180 Greenwich St (btwn Liberty &amp; Fulton St), New York, NY 10006, United States]</td>\n",
       "      <td>[{'label': 'display', 'lat': 40.71145106322093, 'lng': -74.0134334564209}]</td>\n",
       "      <td>40.711451</td>\n",
       "      <td>-74.013433</td>\n",
       "      <td>NaN</td>\n",
       "      <td>10006</td>\n",
       "      <td>NY</td>\n",
       "      <td>4b6b5abff964a520fb022ce3</td>\n",
       "    </tr>\n",
       "    <tr>\n",
       "      <th>1</th>\n",
       "      <td>One World Trade Center</td>\n",
       "      <td>Building</td>\n",
       "      <td>1 World Trade Ctr</td>\n",
       "      <td>US</td>\n",
       "      <td>New York</td>\n",
       "      <td>United States</td>\n",
       "      <td>btwn Fulton &amp; West St</td>\n",
       "      <td>215</td>\n",
       "      <td>[1 World Trade Ctr (btwn Fulton &amp; West St), New York, NY 10007, United States]</td>\n",
       "      <td>[{'label': 'display', 'lat': 40.71306941116871, 'lng': -74.01313304901123}]</td>\n",
       "      <td>40.713069</td>\n",
       "      <td>-74.013133</td>\n",
       "      <td>NaN</td>\n",
       "      <td>10007</td>\n",
       "      <td>NY</td>\n",
       "      <td>4abe7f9ef964a520068e20e3</td>\n",
       "    </tr>\n",
       "    <tr>\n",
       "      <th>2</th>\n",
       "      <td>One World Observatory</td>\n",
       "      <td>Scenic Lookout</td>\n",
       "      <td>1 World Trade Ctr</td>\n",
       "      <td>US</td>\n",
       "      <td>New York</td>\n",
       "      <td>United States</td>\n",
       "      <td>Floor 100</td>\n",
       "      <td>204</td>\n",
       "      <td>[1 World Trade Ctr (Floor 100), New York, NY 10007, United States]</td>\n",
       "      <td>[{'label': 'display', 'lat': 40.712819, 'lng': -74.013274}]</td>\n",
       "      <td>40.712819</td>\n",
       "      <td>-74.013274</td>\n",
       "      <td>NaN</td>\n",
       "      <td>10007</td>\n",
       "      <td>NY</td>\n",
       "      <td>515abd65e4b08eda86b30e6e</td>\n",
       "    </tr>\n",
       "    <tr>\n",
       "      <th>3</th>\n",
       "      <td>Four Seasons Hotel New York Downtown</td>\n",
       "      <td>Hotel</td>\n",
       "      <td>27 Barclay St</td>\n",
       "      <td>US</td>\n",
       "      <td>New York</td>\n",
       "      <td>United States</td>\n",
       "      <td>Broadway</td>\n",
       "      <td>208</td>\n",
       "      <td>[27 Barclay St (Broadway), New York, NY 10007, United States]</td>\n",
       "      <td>[{'label': 'display', 'lat': 40.71261246501983, 'lng': -74.00938032087628}]</td>\n",
       "      <td>40.712612</td>\n",
       "      <td>-74.009380</td>\n",
       "      <td>NaN</td>\n",
       "      <td>10007</td>\n",
       "      <td>NY</td>\n",
       "      <td>57c640ad498e74977f98372f</td>\n",
       "    </tr>\n",
       "    <tr>\n",
       "      <th>4</th>\n",
       "      <td>Nobu Downtown</td>\n",
       "      <td>Japanese Restaurant</td>\n",
       "      <td>195 Broadway</td>\n",
       "      <td>US</td>\n",
       "      <td>New York</td>\n",
       "      <td>United States</td>\n",
       "      <td>at Dey St.</td>\n",
       "      <td>197</td>\n",
       "      <td>[195 Broadway (at Dey St.), New York, NY 10007, United States]</td>\n",
       "      <td>[{'label': 'display', 'lat': 40.71053208431402, 'lng': -74.00959253311157}]</td>\n",
       "      <td>40.710532</td>\n",
       "      <td>-74.009593</td>\n",
       "      <td>NaN</td>\n",
       "      <td>10007</td>\n",
       "      <td>NY</td>\n",
       "      <td>4b60c708f964a520d0f829e3</td>\n",
       "    </tr>\n",
       "    <tr>\n",
       "      <th>5</th>\n",
       "      <td>Eataly Downtown</td>\n",
       "      <td>Market</td>\n",
       "      <td>101 Liberty St</td>\n",
       "      <td>US</td>\n",
       "      <td>New York</td>\n",
       "      <td>United States</td>\n",
       "      <td>btwn Church &amp; Greenwich St</td>\n",
       "      <td>175</td>\n",
       "      <td>[101 Liberty St (btwn Church &amp; Greenwich St), New York, NY 10007, United States]</td>\n",
       "      <td>[{'label': 'display', 'lat': 40.710075, 'lng': -74.011976}]</td>\n",
       "      <td>40.710075</td>\n",
       "      <td>-74.011976</td>\n",
       "      <td>NaN</td>\n",
       "      <td>10007</td>\n",
       "      <td>NY</td>\n",
       "      <td>579c12cd498e6e815b3acf50</td>\n",
       "    </tr>\n",
       "    <tr>\n",
       "      <th>6</th>\n",
       "      <td>9/11 Memorial North Pool</td>\n",
       "      <td>Fountain</td>\n",
       "      <td>West St</td>\n",
       "      <td>US</td>\n",
       "      <td>New York</td>\n",
       "      <td>United States</td>\n",
       "      <td>at Fulton St</td>\n",
       "      <td>154</td>\n",
       "      <td>[West St (at Fulton St), New York, NY, United States]</td>\n",
       "      <td>[{'label': 'display', 'lat': 40.71207726282092, 'lng': -74.01318669319153}]</td>\n",
       "      <td>40.712077</td>\n",
       "      <td>-74.013187</td>\n",
       "      <td>NaN</td>\n",
       "      <td>NaN</td>\n",
       "      <td>NY</td>\n",
       "      <td>58801864cc5b6a14dedce689</td>\n",
       "    </tr>\n",
       "    <tr>\n",
       "      <th>7</th>\n",
       "      <td>9/11 Museum Auditorium</td>\n",
       "      <td>Auditorium</td>\n",
       "      <td>180 Greenwich St</td>\n",
       "      <td>US</td>\n",
       "      <td>New York</td>\n",
       "      <td>United States</td>\n",
       "      <td>NaN</td>\n",
       "      <td>117</td>\n",
       "      <td>[180 Greenwich St, New York, NY 10007, United States]</td>\n",
       "      <td>[{'label': 'display', 'lat': 40.711859516489525, 'lng': -74.01281437966045}]</td>\n",
       "      <td>40.711860</td>\n",
       "      <td>-74.012814</td>\n",
       "      <td>NaN</td>\n",
       "      <td>10007</td>\n",
       "      <td>NY</td>\n",
       "      <td>5941c0abf193c012d47fc4e8</td>\n",
       "    </tr>\n",
       "    <tr>\n",
       "      <th>8</th>\n",
       "      <td>Liberty Park</td>\n",
       "      <td>Park</td>\n",
       "      <td>Liberty St</td>\n",
       "      <td>US</td>\n",
       "      <td>New York</td>\n",
       "      <td>United States</td>\n",
       "      <td>at West St</td>\n",
       "      <td>243</td>\n",
       "      <td>[Liberty St (at West St), New York, NY 10006, United States]</td>\n",
       "      <td>[{'label': 'display', 'lat': 40.71038391621699, 'lng': -74.01386844682942}]</td>\n",
       "      <td>40.710384</td>\n",
       "      <td>-74.013868</td>\n",
       "      <td>NaN</td>\n",
       "      <td>10006</td>\n",
       "      <td>NY</td>\n",
       "      <td>576c2212498e72c8c38f1ddd</td>\n",
       "    </tr>\n",
       "    <tr>\n",
       "      <th>9</th>\n",
       "      <td>The Wooly Daily</td>\n",
       "      <td>Coffee Shop</td>\n",
       "      <td>11 Barclay St</td>\n",
       "      <td>US</td>\n",
       "      <td>New York</td>\n",
       "      <td>United States</td>\n",
       "      <td>Broadway</td>\n",
       "      <td>265</td>\n",
       "      <td>[11 Barclay St (Broadway), New York, NY 10007, United States]</td>\n",
       "      <td>[{'label': 'display', 'lat': 40.71213724343698, 'lng': -74.00839457685005}]</td>\n",
       "      <td>40.712137</td>\n",
       "      <td>-74.008395</td>\n",
       "      <td>NaN</td>\n",
       "      <td>10007</td>\n",
       "      <td>NY</td>\n",
       "      <td>56093809498e5344ab8835a6</td>\n",
       "    </tr>\n",
       "  </tbody>\n",
       "</table>\n",
       "</div>"
      ],
      "text/plain": [
       "                                      name           categories  \\\n",
       "0  National September 11 Memorial & Museum  Memorial Site         \n",
       "1  One World Trade Center                   Building              \n",
       "2  One World Observatory                    Scenic Lookout        \n",
       "3  Four Seasons Hotel New York Downtown     Hotel                 \n",
       "4  Nobu Downtown                            Japanese Restaurant   \n",
       "5  Eataly Downtown                          Market                \n",
       "6  9/11 Memorial North Pool                 Fountain              \n",
       "7  9/11 Museum Auditorium                   Auditorium            \n",
       "8  Liberty Park                             Park                  \n",
       "9  The Wooly Daily                          Coffee Shop           \n",
       "\n",
       "             address  cc      city        country                 crossStreet  \\\n",
       "0  180 Greenwich St   US  New York  United States  btwn Liberty & Fulton St     \n",
       "1  1 World Trade Ctr  US  New York  United States  btwn Fulton & West St        \n",
       "2  1 World Trade Ctr  US  New York  United States  Floor 100                    \n",
       "3  27 Barclay St      US  New York  United States  Broadway                     \n",
       "4  195 Broadway       US  New York  United States  at Dey St.                   \n",
       "5  101 Liberty St     US  New York  United States  btwn Church & Greenwich St   \n",
       "6  West St            US  New York  United States  at Fulton St                 \n",
       "7  180 Greenwich St   US  New York  United States  NaN                          \n",
       "8  Liberty St         US  New York  United States  at West St                   \n",
       "9  11 Barclay St      US  New York  United States  Broadway                     \n",
       "\n",
       "   distance  \\\n",
       "0  166        \n",
       "1  215        \n",
       "2  204        \n",
       "3  208        \n",
       "4  197        \n",
       "5  175        \n",
       "6  154        \n",
       "7  117        \n",
       "8  243        \n",
       "9  265        \n",
       "\n",
       "                                                                   formattedAddress  \\\n",
       "0  [180 Greenwich St (btwn Liberty & Fulton St), New York, NY 10006, United States]   \n",
       "1  [1 World Trade Ctr (btwn Fulton & West St), New York, NY 10007, United States]     \n",
       "2  [1 World Trade Ctr (Floor 100), New York, NY 10007, United States]                 \n",
       "3  [27 Barclay St (Broadway), New York, NY 10007, United States]                      \n",
       "4  [195 Broadway (at Dey St.), New York, NY 10007, United States]                     \n",
       "5  [101 Liberty St (btwn Church & Greenwich St), New York, NY 10007, United States]   \n",
       "6  [West St (at Fulton St), New York, NY, United States]                              \n",
       "7  [180 Greenwich St, New York, NY 10007, United States]                              \n",
       "8  [Liberty St (at West St), New York, NY 10006, United States]                       \n",
       "9  [11 Barclay St (Broadway), New York, NY 10007, United States]                      \n",
       "\n",
       "                                                                 labeledLatLngs  \\\n",
       "0  [{'label': 'display', 'lat': 40.71145106322093, 'lng': -74.0134334564209}]     \n",
       "1  [{'label': 'display', 'lat': 40.71306941116871, 'lng': -74.01313304901123}]    \n",
       "2  [{'label': 'display', 'lat': 40.712819, 'lng': -74.013274}]                    \n",
       "3  [{'label': 'display', 'lat': 40.71261246501983, 'lng': -74.00938032087628}]    \n",
       "4  [{'label': 'display', 'lat': 40.71053208431402, 'lng': -74.00959253311157}]    \n",
       "5  [{'label': 'display', 'lat': 40.710075, 'lng': -74.011976}]                    \n",
       "6  [{'label': 'display', 'lat': 40.71207726282092, 'lng': -74.01318669319153}]    \n",
       "7  [{'label': 'display', 'lat': 40.711859516489525, 'lng': -74.01281437966045}]   \n",
       "8  [{'label': 'display', 'lat': 40.71038391621699, 'lng': -74.01386844682942}]    \n",
       "9  [{'label': 'display', 'lat': 40.71213724343698, 'lng': -74.00839457685005}]    \n",
       "\n",
       "         lat        lng neighborhood postalCode state  \\\n",
       "0  40.711451 -74.013433  NaN          10006      NY     \n",
       "1  40.713069 -74.013133  NaN          10007      NY     \n",
       "2  40.712819 -74.013274  NaN          10007      NY     \n",
       "3  40.712612 -74.009380  NaN          10007      NY     \n",
       "4  40.710532 -74.009593  NaN          10007      NY     \n",
       "5  40.710075 -74.011976  NaN          10007      NY     \n",
       "6  40.712077 -74.013187  NaN          NaN        NY     \n",
       "7  40.711860 -74.012814  NaN          10007      NY     \n",
       "8  40.710384 -74.013868  NaN          10006      NY     \n",
       "9  40.712137 -74.008395  NaN          10007      NY     \n",
       "\n",
       "                         id  \n",
       "0  4b6b5abff964a520fb022ce3  \n",
       "1  4abe7f9ef964a520068e20e3  \n",
       "2  515abd65e4b08eda86b30e6e  \n",
       "3  57c640ad498e74977f98372f  \n",
       "4  4b60c708f964a520d0f829e3  \n",
       "5  579c12cd498e6e815b3acf50  \n",
       "6  58801864cc5b6a14dedce689  \n",
       "7  5941c0abf193c012d47fc4e8  \n",
       "8  576c2212498e72c8c38f1ddd  \n",
       "9  56093809498e5344ab8835a6  "
      ]
     },
     "execution_count": 388,
     "metadata": {},
     "output_type": "execute_result"
    }
   ],
   "source": [
    "dataframe_E = json_normalize(items) # flatten JSON\n",
    "\n",
    "# filter columns\n",
    "filtered_columns = ['venue.name', 'venue.categories'] + [col for col in dataframe_E.columns if col.startswith('venue.location.')] + ['venue.id']\n",
    "dataframe_filtered_E = dataframe_E.loc[:, filtered_columns]\n",
    "\n",
    "# filter the category for each row\n",
    "dataframe_filtered_E['venue.categories'] = dataframe_filtered_E.apply(get_category_type, axis=1)\n",
    "\n",
    "# clean columns\n",
    "dataframe_filtered_E.columns = [col.split('.')[-1] for col in dataframe_filtered.columns]\n",
    "\n",
    "print ('@@@@@@@@@@@@@@@@@@@@@@@@@@@@@@@@@@@ Popular Spots  Near BY Trending Venue Area @@@@@@@@@@@@@@@@@@@@@@@@@@@@@@@@@@@@@@@@')\n",
    "\n",
    "dataframe_filtered_E.head(10)"
   ]
  },
  {
   "cell_type": "markdown",
   "metadata": {},
   "source": [
    "###  Map : Popular Spots  Near BY Trending Venue"
   ]
  },
  {
   "cell_type": "code",
   "execution_count": 392,
   "metadata": {},
   "outputs": [
    {
     "data": {
      "text/html": [
       "<div style=\"width:100%;\"><div style=\"position:relative;width:100%;height:0;padding-bottom:60%;\"><iframe src=\"data:text/html;charset=utf-8;base64,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\" style=\"position:absolute;width:100%;height:100%;left:0;top:0;border:none !important;\" allowfullscreen webkitallowfullscreen mozallowfullscreen></iframe></div></div>"
      ],
      "text/plain": [
       "<folium.folium.Map at 0xd665370>"
      ]
     },
     "execution_count": 392,
     "metadata": {},
     "output_type": "execute_result"
    }
   ],
   "source": [
    " venues_map = folium.Map(location=[latitude, longitude], zoom_start=16) # generate map centred around the trending location\n",
    "\n",
    "# add a red circle marker to represent the current location\n",
    "folium.features.CircleMarker(\n",
    "    [latitude, longitude],\n",
    "    radius=20,\n",
    "    color='red',\n",
    "    popup='Trending Venue-shortest distance',\n",
    "    fill = True,\n",
    "    fill_color = 'red',\n",
    "    fill_opacity = 0.6\n",
    "    ).add_to(venues_map)\n",
    "    \n",
    "# add the trending location as blue circle markers\n",
    "for lat, lng, label in zip(dataframe_filtered_E.lat, dataframe_filtered_E.lng, dataframe_filtered_E.categories):\n",
    "        folium.features.CircleMarker(\n",
    "        [lat, lng],\n",
    "        radius=10,\n",
    "        color='blue',\n",
    "        popup=label,\n",
    "        fill = True,\n",
    "        fill_color='blue',\n",
    "        fill_opacity=0.6\n",
    "        ).add_to(venues_map)\n",
    "\n",
    "\n",
    "# display map\n",
    "venues_map"
   ]
  },
  {
   "cell_type": "markdown",
   "metadata": {},
   "source": [
    "## Now choose wisely, do you want to move to nearest trending location or continue here? We advise a move based on this analysis"
   ]
  },
  {
   "cell_type": "markdown",
   "metadata": {
    "button": false,
    "new_sheet": false,
    "run_control": {
     "read_only": false
    }
   },
   "source": [
    "### Thanks You - End of this Project\n"
   ]
  }
 ],
 "metadata": {
  "kernelspec": {
   "display_name": "Python 3",
   "language": "python",
   "name": "python3"
  },
  "language_info": {
   "codemirror_mode": {
    "name": "ipython",
    "version": 3
   },
   "file_extension": ".py",
   "mimetype": "text/x-python",
   "name": "python",
   "nbconvert_exporter": "python",
   "pygments_lexer": "ipython3",
   "version": "3.6.5"
  }
 },
 "nbformat": 4,
 "nbformat_minor": 2
}
